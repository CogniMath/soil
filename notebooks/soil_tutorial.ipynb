{
 "cells": [
  {
   "cell_type": "markdown",
   "metadata": {
    "ExecuteTime": {
     "end_time": "2017-07-02T16:44:14.120953Z",
     "start_time": "2017-07-02T18:44:14.117152+02:00"
    }
   },
   "source": [
    "# Introduction"
   ]
  },
  {
   "cell_type": "markdown",
   "metadata": {
    "cell_style": "center",
    "collapsed": true
   },
   "source": [
    "This notebook is an introduction to the soil agent-based social network simulation framework.\n",
    "In particular, we will focus on a specific use case: studying the propagation of news in a social network.\n",
    "\n",
    "The steps we will follow are:\n",
    "\n",
    "* Modelling the behavior of agents\n",
    "* Running the simulation using different configurations\n",
    "* Analysing the results of each simulation"
   ]
  },
  {
   "cell_type": "markdown",
   "metadata": {
    "ExecuteTime": {
     "end_time": "2017-07-03T13:38:48.052876Z",
     "start_time": "2017-07-03T15:38:48.044762+02:00"
    }
   },
   "source": [
    "But before that, let's import the soil module and networkx."
   ]
  },
  {
   "cell_type": "code",
   "execution_count": 1,
   "metadata": {
    "ExecuteTime": {
     "end_time": "2017-07-03T14:42:51.679937Z",
     "start_time": "2017-07-03T16:42:51.185463+02:00"
    },
    "collapsed": true
   },
   "outputs": [],
   "source": [
    "import soil\n",
    "import networkx as nx"
   ]
  },
  {
   "cell_type": "code",
   "execution_count": 2,
   "metadata": {
    "ExecuteTime": {
     "end_time": "2017-07-03T14:42:51.690373Z",
     "start_time": "2017-07-03T16:42:51.682644+02:00"
    }
   },
   "outputs": [
    {
     "name": "stdout",
     "output_type": "stream",
     "text": [
      "Populating the interactive namespace from numpy and matplotlib\n"
     ]
    }
   ],
   "source": [
    "%pylab inline\n",
    "# To display plots in the notebook"
   ]
  },
  {
   "cell_type": "markdown",
   "metadata": {
    "ExecuteTime": {
     "end_time": "2017-07-03T13:41:19.788717Z",
     "start_time": "2017-07-03T15:41:19.785448+02:00"
    }
   },
   "source": [
    "# Basic concepts"
   ]
  },
  {
   "cell_type": "markdown",
   "metadata": {},
   "source": [
    "There are three main elements in a soil simulation:\n",
    "    \n",
    "* The network topology. A simulation may use an existing NetworkX topology, or generate one on the fly\n",
    "* Agents. There are two types: 1) network agents, which are linked to a node in the topology, and 2) environment agents, which are freely assigned to the environment.\n",
    "* The environment. It assigns agents to nodes in the network, and stores the environment parameters (shared state for all agents).\n",
    "\n",
    "Soil is based on ``simpy``, which is an event-based network simulation library.\n",
    "Soil provides several abstractions over events to make developing agents easier.\n",
    "This means you can use events (timeouts, delays) in soil, but for the most part we will assume your models will be step-based.\n"
   ]
  },
  {
   "cell_type": "markdown",
   "metadata": {
    "ExecuteTime": {
     "end_time": "2017-07-02T15:55:12.933978Z",
     "start_time": "2017-07-02T17:55:12.930860+02:00"
    }
   },
   "source": [
    "# Modeling behaviour"
   ]
  },
  {
   "cell_type": "markdown",
   "metadata": {
    "ExecuteTime": {
     "end_time": "2017-07-03T13:49:31.269687Z",
     "start_time": "2017-07-03T15:49:31.257850+02:00"
    }
   },
   "source": [
    "Our first step will be to model how every person in the social network reacts when it comes to news.\n",
    "We will follow a very simple model (a finite state machine).\n",
    "\n",
    "There are two types of people, those who have heard about a newsworthy event (infected) or those who have not (neutral).\n",
    "A neutral person may heard about the news either on the TV (with probability **prob_tv_spread**) or through their friends.\n",
    "Once a person has heard the news, they will spread it to their friends (with a probability **prob_neighbor_spread**).\n",
    "Some users do not have a TV, so they only rely on their friends.\n",
    "\n",
    "The spreading probabilities will change over time due to different factors.\n",
    "We will represent this variance using an environment agent."
   ]
  },
  {
   "cell_type": "markdown",
   "metadata": {},
   "source": [
    "## Network Agents"
   ]
  },
  {
   "cell_type": "markdown",
   "metadata": {
    "ExecuteTime": {
     "end_time": "2017-07-03T14:03:07.171127Z",
     "start_time": "2017-07-03T16:03:07.165779+02:00"
    }
   },
   "source": [
    "A basic network agent in Soil should inherit from ``soil.agents.BaseAgent``, and define its behaviour in every step of the simulation by implementing a ``run(self)`` method.\n",
    "The most important attributes of the agent are:\n",
    "\n",
    "* ``agent.state``, a dictionary with the state of the agent. ``agent.state['id']`` reflects the state id of the agent. That state id can be used to look for other networks in that specific state. The state can be access via the agent as well. For instance:\n",
    "```py\n",
    "a = soil.agents.BaseAgent(env=env)\n",
    "a['hours_of_sleep'] = 10\n",
    "print(a['hours_of_sleep'])\n",
    "```\n",
    "  The state of the agent is stored in every step of the simulation:\n",
    "  ```py\n",
    "  print(a['hours_of_sleep', 10]) # hours of sleep before step #10\n",
    "  print(a[None, 0]) # whole state of the agent before step #0\n",
    "  ```\n",
    "\n",
    "* ``agent.env``, a reference to the environment. Most commonly used to get access to the environment parameters and the topology:\n",
    "    ```py\n",
    "    a.env.G.nodes() # Get all nodes ids in the topology\n",
    "    a.env['minimum_hours_of_sleep']\n",
    "\n",
    "    ```\n",
    "\n",
    "Since our model is a finite state machine, we will be basing it on ``soil.agents.FSM``.\n",
    "\n",
    "With ``soil.agents.FSM``, we do not need to specify a ``step`` method.\n",
    "Instead, we describe every step as a function.\n",
    "To change to another state, a function may return the new state.\n",
    "If no state is returned, the state remains unchanged.[\n",
    "It will consist of two states, ``neutral`` (default) and ``infected``.\n",
    "\n",
    "Here's the code:"
   ]
  },
  {
   "cell_type": "code",
   "execution_count": 3,
   "metadata": {
    "ExecuteTime": {
     "end_time": "2017-07-03T14:42:51.715535Z",
     "start_time": "2017-07-03T16:42:51.692301+02:00"
    },
    "collapsed": true
   },
   "outputs": [],
   "source": [
    "import random\n",
    "\n",
    "class NewsSpread(soil.agents.FSM):\n",
    "    @soil.agents.default_state\n",
    "    @soil.agents.state\n",
    "    def neutral(self):\n",
    "        r = random.random()\n",
    "        if self['has_tv'] and r < self.env['prob_tv_spread']:\n",
    "                return self.infected\n",
    "        return\n",
    "    \n",
    "    @soil.agents.state\n",
    "    def infected(self):\n",
    "        prob_infect = self.env['prob_neighbor_spread']\n",
    "        for neighbor in self.get_neighboring_agents(state_id=self.neutral.id):\n",
    "            r = random.random()\n",
    "            if r < prob_infect:\n",
    "                neighbor.state['id'] = self.infected.id\n",
    "        return\n",
    "        "
   ]
  },
  {
   "cell_type": "markdown",
   "metadata": {
    "ExecuteTime": {
     "end_time": "2017-07-02T12:22:53.931963Z",
     "start_time": "2017-07-02T14:22:53.928340+02:00"
    }
   },
   "source": [
    "## Environment agents"
   ]
  },
  {
   "cell_type": "markdown",
   "metadata": {},
   "source": [
    "Environment agents allow us to control the state of the environment.\n",
    "In this case, we will use an environment agent to simulate a very viral event.\n",
    "\n",
    "When the event happens, the agent will modify the probability of spreading the rumor."
   ]
  },
  {
   "cell_type": "code",
   "execution_count": 4,
   "metadata": {
    "ExecuteTime": {
     "end_time": "2017-07-03T14:42:51.727938Z",
     "start_time": "2017-07-03T16:42:51.717828+02:00"
    },
    "collapsed": true
   },
   "outputs": [],
   "source": [
    "NEIGHBOR_FACTOR = 0.9\n",
    "TV_FACTOR = 0.5\n",
    "class NewsEnvironmentAgent(soil.agents.BaseAgent):\n",
    "    def step(self):\n",
    "        if self.now == self['event_time']:\n",
    "            self.env['prob_tv_spread'] = 1\n",
    "            self.env['prob_neighbor_spread'] = 1\n",
    "        elif self.now > self['event_time']:\n",
    "            self.env['prob_tv_spread'] = self.env['prob_tv_spread'] * TV_FACTOR\n",
    "            self.env['prob_neighbor_spread'] = self.env['prob_neighbor_spread'] * NEIGHBOR_FACTOR"
   ]
  },
  {
   "cell_type": "markdown",
   "metadata": {
    "ExecuteTime": {
     "end_time": "2017-07-02T11:23:18.052235Z",
     "start_time": "2017-07-02T13:23:18.047452+02:00"
    }
   },
   "source": [
    "## Testing the agents"
   ]
  },
  {
   "cell_type": "markdown",
   "metadata": {
    "ExecuteTime": {
     "end_time": "2017-07-02T16:14:54.572431Z",
     "start_time": "2017-07-02T18:14:54.564095+02:00"
    }
   },
   "source": [
    "Feel free to skip this section if this is your first time with soil."
   ]
  },
  {
   "cell_type": "markdown",
   "metadata": {},
   "source": [
    "Testing agents is not easy, and this is not a thorough testing process for agents.\n",
    "Rather, this section is aimed to show you how to access internal pats of soil so you can test your agents."
   ]
  },
  {
   "cell_type": "markdown",
   "metadata": {
    "cell_style": "split"
   },
   "source": [
    "First of all, let's check if our network agent has the states we would expect:"
   ]
  },
  {
   "cell_type": "code",
   "execution_count": 5,
   "metadata": {
    "ExecuteTime": {
     "end_time": "2017-07-03T14:42:51.816465Z",
     "start_time": "2017-07-03T16:42:51.811222+02:00"
    },
    "cell_style": "split"
   },
   "outputs": [
    {
     "data": {
      "text/plain": [
       "{'infected': <function __main__.NewsSpread.infected>,\n",
       " 'neutral': <function __main__.NewsSpread.neutral>}"
      ]
     },
     "execution_count": 5,
     "metadata": {},
     "output_type": "execute_result"
    }
   ],
   "source": [
    "NewsSpread.states"
   ]
  },
  {
   "cell_type": "markdown",
   "metadata": {
    "cell_style": "split"
   },
   "source": [
    "Now, let's run a simulation on a simple network. It is comprised of three nodes:\n"
   ]
  },
  {
   "cell_type": "code",
   "execution_count": 6,
   "metadata": {
    "ExecuteTime": {
     "end_time": "2017-07-03T14:42:52.106636Z",
     "start_time": "2017-07-03T16:42:51.904738+02:00"
    },
    "cell_style": "split",
    "scrolled": false
   },
   "outputs": [
    {
     "data": {
      "image/png": "[encoded data removed]",
      "text/plain": [
       "<matplotlib.figure.Figure at 0x7fd08276d978>"
      ]
     },
     "metadata": {},
     "output_type": "display_data"
    }
   ],
   "source": [
    "G = nx.Graph()\n",
    "G.add_edge(0, 1)\n",
    "G.add_edge(0, 2)\n",
    "G.add_edge(2, 3)\n",
    "G.add_node(4)\n",
    "pos = nx.spring_layout(G)\n",
    "nx.draw_networkx(G, pos, node_color='red')\n",
    "nx.draw_networkx(G, pos, nodelist=[0], node_color='blue')"
   ]
  },
  {
   "cell_type": "markdown",
   "metadata": {
    "ExecuteTime": {
     "end_time": "2017-07-03T11:53:30.997756Z",
     "start_time": "2017-07-03T13:53:30.989609+02:00"
    },
    "cell_style": "split"
   },
   "source": [
    "Let's run a simple simulation that assigns a NewsSpread agent to all the nodes in that network.\n",
    "Notice how node 0 is the only one with a TV."
   ]
  },
  {
   "cell_type": "code",
   "execution_count": 7,
   "metadata": {
    "ExecuteTime": {
     "end_time": "2017-07-03T14:42:52.136477Z",
     "start_time": "2017-07-03T16:42:52.108729+02:00"
    },
    "cell_style": "split"
   },
   "outputs": [
    {
     "name": "stdout",
     "output_type": "stream",
     "text": [
      "Trial: 0\n",
      "\tRunning\n",
      "Finished trial in 0.014928102493286133 seconds\n",
      "Finished simulation in 0.015764951705932617 seconds\n"
     ]
    }
   ],
   "source": [
    "env_params = {'prob_tv_spread': 0,\n",
    "             'prob_neighbor_spread': 0}\n",
    "\n",
    "MAX_TIME = 100\n",
    "EVENT_TIME = 10\n",
    "\n",
    "sim = soil.simulation.SoilSimulation(topology=G,\n",
    "                                     num_trials=1,\n",
    "                                     max_time=MAX_TIME,\n",
    "                                     environment_agents=[{'agent_type': NewsEnvironmentAgent,\n",
    "                                                         'state': {\n",
    "                                                             'event_time': EVENT_TIME\n",
    "                                                         }}],\n",
    "                                     network_agents=[{'agent_type': NewsSpread,\n",
    "                                                      'weight': 1}],\n",
    "                                     states={0: {'has_tv': True}},\n",
    "                                     default_state={'has_tv': False},\n",
    "                                     environment_params=env_params)\n",
    "env = sim.run_simulation()[0]"
   ]
  },
  {
   "cell_type": "markdown",
   "metadata": {
    "cell_style": "split"
   },
   "source": [
    "Now we can access the results of the simulation and compare them to our expected results"
   ]
  },
  {
   "cell_type": "code",
   "execution_count": 8,
   "metadata": {
    "ExecuteTime": {
     "end_time": "2017-07-03T14:42:52.160856Z",
     "start_time": "2017-07-03T16:42:52.138976+02:00"
    },
    "cell_style": "split",
    "collapsed": true,
    "scrolled": false
   },
   "outputs": [],
   "source": [
    "agents = list(env.network_agents)\n",
    "\n",
    "# Until the event, all agents are neutral\n",
    "for t in range(10):\n",
    "    for a in agents:\n",
    "        assert a['id', t] == a.neutral.id\n",
    "\n",
    "# After the event, the node with a TV is infected, the rest are not\n",
    "assert agents[0]['id', 11] == NewsSpread.infected.id\n",
    "\n",
    "for a in agents[1:4]:\n",
    "    assert a['id', 11] == NewsSpread.neutral.id\n",
    "\n",
    "# At the end, the agents connected to the infected one will probably be infected, too.\n",
    "assert agents[1]['id', MAX_TIME] == NewsSpread.infected.id\n",
    "assert agents[2]['id', MAX_TIME] == NewsSpread.infected.id\n",
    "\n",
    "# But the node with no friends should not be affected\n",
    "assert agents[4]['id', MAX_TIME] == NewsSpread.neutral.id\n",
    "        "
   ]
  },
  {
   "cell_type": "markdown",
   "metadata": {
    "ExecuteTime": {
     "end_time": "2017-07-02T16:41:09.110652Z",
     "start_time": "2017-07-02T18:41:09.106966+02:00"
    },
    "cell_style": "split"
   },
   "source": [
    "Lastly, let's see if the probabilities have decreased as expected:"
   ]
  },
  {
   "cell_type": "code",
   "execution_count": 9,
   "metadata": {
    "ExecuteTime": {
     "end_time": "2017-07-03T14:42:52.193918Z",
     "start_time": "2017-07-03T16:42:52.163476+02:00"
    },
    "cell_style": "split",
    "collapsed": true
   },
   "outputs": [],
   "source": [
    "assert abs(env.environment_params['prob_neighbor_spread'] - (NEIGHBOR_FACTOR**(MAX_TIME-1-10))) < 10e-4\n",
    "assert abs(env.environment_params['prob_tv_spread'] - (TV_FACTOR**(MAX_TIME-1-10))) < 10e-6"
   ]
  },
  {
   "cell_type": "markdown",
   "metadata": {},
   "source": [
    "# Running the simulation"
   ]
  },
  {
   "cell_type": "markdown",
   "metadata": {
    "ExecuteTime": {
     "end_time": "2017-07-03T11:20:28.566944Z",
     "start_time": "2017-07-03T13:20:28.561052+02:00"
    },
    "cell_style": "split"
   },
   "source": [
    "To run a simulation, we need a configuration.\n",
    "Soil can load configurations from python dictionaries as well as JSON and YAML files.\n",
    "For this demo, we will use a python dictionary:"
   ]
  },
  {
   "cell_type": "code",
   "execution_count": 10,
   "metadata": {
    "ExecuteTime": {
     "end_time": "2017-07-03T14:42:52.219072Z",
     "start_time": "2017-07-03T16:42:52.196203+02:00"
    },
    "cell_style": "split",
    "collapsed": true
   },
   "outputs": [],
   "source": [
    "config = {\n",
    "    'name': 'ExampleSimulation',\n",
    "    'max_time': 20,\n",
    "    'interval': 1,\n",
    "    'num_trials': 1,\n",
    "    'network_params': {\n",
    "       'generator': 'complete_graph',\n",
    "        'n': 500,\n",
    "    },\n",
    "    'network_agents': [\n",
    "        {\n",
    "            'agent_type': NewsSpread,\n",
    "            'weight': 1,\n",
    "            'state': {\n",
    "                'has_tv': False\n",
    "            }\n",
    "        },\n",
    "        {\n",
    "            'agent_type': NewsSpread,\n",
    "            'weight': 2,\n",
    "            'state': {\n",
    "                'has_tv': True\n",
    "            }\n",
    "        }\n",
    "    ],\n",
    "    'states': [ {'has_tv': True} ],\n",
    "    'environment_params':{\n",
    "        'prob_tv_spread': 0.01,\n",
    "        'prob_neighbor_spread': 0.5\n",
    "    }\n",
    "}"
   ]
  },
  {
   "cell_type": "markdown",
   "metadata": {
    "ExecuteTime": {
     "end_time": "2017-07-03T11:57:34.219618Z",
     "start_time": "2017-07-03T13:57:34.213817+02:00"
    },
    "cell_style": "split"
   },
   "source": [
    "Let's run our simulation:"
   ]
  },
  {
   "cell_type": "code",
   "execution_count": 11,
   "metadata": {
    "ExecuteTime": {
     "end_time": "2017-07-03T14:42:55.366288Z",
     "start_time": "2017-07-03T16:42:52.295584+02:00"
    },
    "cell_style": "split"
   },
   "outputs": [
    {
     "name": "stdout",
     "output_type": "stream",
     "text": [
      "Using config(s): ExampleSimulation\n",
      "Trial: 0\n",
      "\tRunning\n",
      "Finished trial in 1.4140360355377197 seconds\n",
      "Finished simulation in 2.4056642055511475 seconds\n"
     ]
    }
   ],
   "source": [
    "soil.simulation.run_from_config(config, dump=False)"
   ]
  },
  {
   "cell_type": "markdown",
   "metadata": {
    "ExecuteTime": {
     "end_time": "2017-07-03T12:03:32.183588Z",
     "start_time": "2017-07-03T14:03:32.167797+02:00"
    },
    "cell_style": "split",
    "collapsed": true
   },
   "source": [
    "In real life, you probably want to run several simulations, varying some of the parameters so that you can compare and answer your research questions.\n",
    "\n",
    "For instance:\n",
    "    \n",
    "* Does the outcome depend on the structure of our network? We will use different generation algorithms to compare them (Barabasi-Albert and Erdos-Renyi)\n",
    "* How does neighbor spreading probability affect my simulation? We will try probability values in the range of [0, 0.4], in intervals of 0.1."
   ]
  },
  {
   "cell_type": "code",
   "execution_count": 12,
   "metadata": {
    "ExecuteTime": {
     "end_time": "2017-07-03T14:43:15.488799Z",
     "start_time": "2017-07-03T16:42:55.368021+02:00"
    },
    "cell_style": "split",
    "scrolled": true
   },
   "outputs": [
    {
     "name": "stdout",
     "output_type": "stream",
     "text": [
      "Using config(s): Spread_erdos_renyi_graph_prob_0.0\n",
      "Trial: 0\n",
      "\tRunning\n",
      "Finished trial in 0.2691483497619629 seconds\n",
      "Finished simulation in 0.3650345802307129 seconds\n",
      "Using config(s): Spread_erdos_renyi_graph_prob_0.1\n",
      "Trial: 0\n",
      "\tRunning\n",
      "Finished trial in 0.34261059761047363 seconds\n",
      "Finished simulation in 0.44017767906188965 seconds\n",
      "Using config(s): Spread_erdos_renyi_graph_prob_0.2\n",
      "Trial: 0\n",
      "\tRunning\n",
      "Finished trial in 0.34417223930358887 seconds\n",
      "Finished simulation in 0.4550771713256836 seconds\n",
      "Using config(s): Spread_erdos_renyi_graph_prob_0.3\n",
      "Trial: 0\n",
      "\tRunning\n",
      "Finished trial in 0.3237779140472412 seconds\n",
      "Finished simulation in 0.42307496070861816 seconds\n",
      "Using config(s): Spread_erdos_renyi_graph_prob_0.4\n",
      "Trial: 0\n",
      "\tRunning\n",
      "Finished trial in 0.3507683277130127 seconds\n",
      "Finished simulation in 0.45061564445495605 seconds\n",
      "Using config(s): Spread_barabasi_albert_graph_prob_0.0\n",
      "Trial: 0\n",
      "\tRunning\n",
      "Finished trial in 0.19115304946899414 seconds\n",
      "Finished simulation in 0.20927715301513672 seconds\n",
      "Using config(s): Spread_barabasi_albert_graph_prob_0.1\n",
      "Trial: 0\n",
      "\tRunning\n",
      "Finished trial in 0.22086191177368164 seconds\n",
      "Finished simulation in 0.2390913963317871 seconds\n",
      "Using config(s): Spread_barabasi_albert_graph_prob_0.2\n",
      "Trial: 0\n",
      "\tRunning\n",
      "Finished trial in 0.21225976943969727 seconds\n",
      "Finished simulation in 0.23252630233764648 seconds\n",
      "Using config(s): Spread_barabasi_albert_graph_prob_0.3\n",
      "Trial: 0\n",
      "\tRunning\n",
      "Finished trial in 0.2853121757507324 seconds\n",
      "Finished simulation in 0.30568504333496094 seconds\n",
      "Using config(s): Spread_barabasi_albert_graph_prob_0.4\n",
      "Trial: 0\n",
      "\tRunning\n",
      "Finished trial in 0.21434736251831055 seconds\n",
      "Finished simulation in 0.23370599746704102 seconds\n"
     ]
    }
   ],
   "source": [
    "network_1 = {\n",
    "       'generator': 'erdos_renyi_graph',\n",
    "        'n': 500,\n",
    "        'p': 0.1\n",
    "}\n",
    "network_2 = {\n",
    "       'generator': 'barabasi_albert_graph',\n",
    "        'n': 500,\n",
    "        'm': 2\n",
    "}\n",
    "\n",
    "\n",
    "for net in [network_1, network_2]:\n",
    "    for i in range(5):\n",
    "        prob = i / 10\n",
    "        config['environment_params']['prob_neighbor_spread'] = prob\n",
    "        config['network_params'] = net\n",
    "        config['name'] = 'Spread_{}_prob_{}'.format(net['generator'], prob)\n",
    "        s = soil.simulation.run_from_config(config)"
   ]
  },
  {
   "cell_type": "markdown",
   "metadata": {
    "ExecuteTime": {
     "end_time": "2017-07-03T11:05:18.043194Z",
     "start_time": "2017-07-03T13:05:18.034699+02:00"
    },
    "cell_style": "split"
   },
   "source": [
    "The results are conveniently stored in pickle (simulation), csv (history of agent and environment state) and gexf format."
   ]
  },
  {
   "cell_type": "code",
   "execution_count": 13,
   "metadata": {
    "ExecuteTime": {
     "end_time": "2017-07-03T14:43:15.721720Z",
     "start_time": "2017-07-03T16:43:15.490854+02:00"
    },
    "cell_style": "split",
    "scrolled": true
   },
   "outputs": [
    {
     "name": "stdout",
     "output_type": "stream",
     "text": [
      "\u001b[01;34msoil_output\u001b[00m\n",
      "├── \u001b[01;34mSim_prob_0\u001b[00m\n",
      "│   ├── Sim_prob_0.dumped.yml\n",
      "│   ├── Sim_prob_0.simulation.pickle\n",
      "│   ├── Sim_prob_0_trial_0.environment.csv\n",
      "│   └── Sim_prob_0_trial_0.gexf\n",
      "├── \u001b[01;34mSpread_barabasi_albert_graph_prob_0.0\u001b[00m\n",
      "│   ├── Spread_barabasi_albert_graph_prob_0.0.dumped.yml\n",
      "│   ├── Spread_barabasi_albert_graph_prob_0.0.simulation.pickle\n",
      "│   ├── Spread_barabasi_albert_graph_prob_0.0_trial_0.environment.csv\n",
      "│   └── Spread_barabasi_albert_graph_prob_0.0_trial_0.gexf\n",
      "├── \u001b[01;34mSpread_barabasi_albert_graph_prob_0.1\u001b[00m\n",
      "│   ├── Spread_barabasi_albert_graph_prob_0.1.dumped.yml\n",
      "│   ├── Spread_barabasi_albert_graph_prob_0.1.simulation.pickle\n",
      "│   ├── Spread_barabasi_albert_graph_prob_0.1_trial_0.environment.csv\n",
      "│   └── Spread_barabasi_albert_graph_prob_0.1_trial_0.gexf\n",
      "├── \u001b[01;34mSpread_barabasi_albert_graph_prob_0.2\u001b[00m\n",
      "│   ├── Spread_barabasi_albert_graph_prob_0.2.dumped.yml\n",
      "│   ├── Spread_barabasi_albert_graph_prob_0.2.simulation.pickle\n",
      "│   ├── Spread_barabasi_albert_graph_prob_0.2_trial_0.environment.csv\n",
      "│   └── Spread_barabasi_albert_graph_prob_0.2_trial_0.gexf\n",
      "├── \u001b[01;34mSpread_barabasi_albert_graph_prob_0.3\u001b[00m\n",
      "│   ├── Spread_barabasi_albert_graph_prob_0.3.dumped.yml\n",
      "│   ├── Spread_barabasi_albert_graph_prob_0.3.simulation.pickle\n",
      "│   ├── Spread_barabasi_albert_graph_prob_0.3_trial_0.environment.csv\n",
      "│   └── Spread_barabasi_albert_graph_prob_0.3_trial_0.gexf\n",
      "├── \u001b[01;34mSpread_barabasi_albert_graph_prob_0.4\u001b[00m\n",
      "│   ├── Spread_barabasi_albert_graph_prob_0.4.dumped.yml\n",
      "│   ├── Spread_barabasi_albert_graph_prob_0.4.simulation.pickle\n",
      "│   ├── Spread_barabasi_albert_graph_prob_0.4_trial_0.environment.csv\n",
      "│   └── Spread_barabasi_albert_graph_prob_0.4_trial_0.gexf\n",
      "├── \u001b[01;34mSpread_erdos_renyi_graph_prob_0.0\u001b[00m\n",
      "│   ├── Spread_erdos_renyi_graph_prob_0.0.dumped.yml\n",
      "│   ├── Spread_erdos_renyi_graph_prob_0.0.simulation.pickle\n",
      "│   ├── Spread_erdos_renyi_graph_prob_0.0_trial_0.environment.csv\n",
      "│   └── Spread_erdos_renyi_graph_prob_0.0_trial_0.gexf\n",
      "├── \u001b[01;34mSpread_erdos_renyi_graph_prob_0.1\u001b[00m\n",
      "│   ├── Spread_erdos_renyi_graph_prob_0.1.dumped.yml\n",
      "│   ├── Spread_erdos_renyi_graph_prob_0.1.simulation.pickle\n",
      "│   ├── Spread_erdos_renyi_graph_prob_0.1_trial_0.environment.csv\n",
      "│   └── Spread_erdos_renyi_graph_prob_0.1_trial_0.gexf\n",
      "├── \u001b[01;34mSpread_erdos_renyi_graph_prob_0.2\u001b[00m\n",
      "│   ├── Spread_erdos_renyi_graph_prob_0.2.dumped.yml\n",
      "│   ├── Spread_erdos_renyi_graph_prob_0.2.simulation.pickle\n",
      "│   ├── Spread_erdos_renyi_graph_prob_0.2_trial_0.environment.csv\n",
      "│   └── Spread_erdos_renyi_graph_prob_0.2_trial_0.gexf\n",
      "├── \u001b[01;34mSpread_erdos_renyi_graph_prob_0.3\u001b[00m\n",
      "│   ├── Spread_erdos_renyi_graph_prob_0.3.dumped.yml\n",
      "│   ├── Spread_erdos_renyi_graph_prob_0.3.simulation.pickle\n",
      "│   ├── Spread_erdos_renyi_graph_prob_0.3_trial_0.environment.csv\n",
      "│   └── Spread_erdos_renyi_graph_prob_0.3_trial_0.gexf\n",
      "└── \u001b[01;34mSpread_erdos_renyi_graph_prob_0.4\u001b[00m\n",
      "    ├── Spread_erdos_renyi_graph_prob_0.4.dumped.yml\n",
      "    ├── Spread_erdos_renyi_graph_prob_0.4.simulation.pickle\n",
      "    ├── Spread_erdos_renyi_graph_prob_0.4_trial_0.environment.csv\n",
      "    └── Spread_erdos_renyi_graph_prob_0.4_trial_0.gexf\n",
      "\n",
      "11 directories, 44 files\n",
      "1.8M\tsoil_output/Sim_prob_0\n",
      "652K\tsoil_output/Spread_barabasi_albert_graph_prob_0.0\n",
      "684K\tsoil_output/Spread_barabasi_albert_graph_prob_0.1\n",
      "692K\tsoil_output/Spread_barabasi_albert_graph_prob_0.2\n",
      "692K\tsoil_output/Spread_barabasi_albert_graph_prob_0.3\n",
      "688K\tsoil_output/Spread_barabasi_albert_graph_prob_0.4\n",
      "1.8M\tsoil_output/Spread_erdos_renyi_graph_prob_0.0\n",
      "1.9M\tsoil_output/Spread_erdos_renyi_graph_prob_0.1\n",
      "1.9M\tsoil_output/Spread_erdos_renyi_graph_prob_0.2\n",
      "1.9M\tsoil_output/Spread_erdos_renyi_graph_prob_0.3\n",
      "1.9M\tsoil_output/Spread_erdos_renyi_graph_prob_0.4\n"
     ]
    }
   ],
   "source": [
    "!tree soil_output\n",
    "!du -xh soil_output/*"
   ]
  },
  {
   "cell_type": "markdown",
   "metadata": {
    "ExecuteTime": {
     "end_time": "2017-07-02T10:40:14.384177Z",
     "start_time": "2017-07-02T12:40:14.381885+02:00"
    }
   },
   "source": [
    "# Analysing the results"
   ]
  },
  {
   "cell_type": "markdown",
   "metadata": {},
   "source": [
    "Once the simulations are over, we can use soil to analyse the results."
   ]
  },
  {
   "cell_type": "markdown",
   "metadata": {
    "ExecuteTime": {
     "end_time": "2017-07-03T14:44:30.978223Z",
     "start_time": "2017-07-03T16:44:30.971952+02:00"
    }
   },
   "source": [
    "First, let's load the stored results into a pandas dataframe."
   ]
  },
  {
   "cell_type": "code",
   "execution_count": 14,
   "metadata": {
    "ExecuteTime": {
     "end_time": "2017-07-03T14:43:15.987794Z",
     "start_time": "2017-07-03T16:43:15.724519+02:00"
    }
   },
   "outputs": [
    {
     "name": "stdout",
     "output_type": "stream",
     "text": [
      "Populating the interactive namespace from numpy and matplotlib\n"
     ]
    },
    {
     "name": "stderr",
     "output_type": "stream",
     "text": [
      "/usr/lib/python3.6/site-packages/IPython/core/magics/pylab.py:160: UserWarning: pylab import has clobbered these variables: ['random']\n",
      "`%matplotlib` prevents importing * from pylab and numpy\n",
      "  \"\\n`%matplotlib` prevents importing * from pylab and numpy\"\n"
     ]
    }
   ],
   "source": [
    "%pylab inline\n",
    "from soil import analysis"
   ]
  },
  {
   "cell_type": "code",
   "execution_count": 15,
   "metadata": {
    "ExecuteTime": {
     "end_time": "2017-07-03T14:43:16.590910Z",
     "start_time": "2017-07-03T16:43:15.990320+02:00"
    },
    "scrolled": true
   },
   "outputs": [
    {
     "data": {
      "text/html": [
       "<div>\n",
       "<style>\n",
       "    .dataframe thead tr:only-child th {\n",
       "        text-align: right;\n",
       "    }\n",
       "\n",
       "    .dataframe thead th {\n",
       "        text-align: left;\n",
       "    }\n",
       "\n",
       "    .dataframe tbody tr th {\n",
       "        vertical-align: top;\n",
       "    }\n",
       "</style>\n",
       "<table border=\"1\" class=\"dataframe\">\n",
       "  <thead>\n",
       "    <tr style=\"text-align: right;\">\n",
       "      <th></th>\n",
       "      <th>agent_id</th>\n",
       "      <th>tstep</th>\n",
       "      <th>attribute</th>\n",
       "      <th>value</th>\n",
       "    </tr>\n",
       "  </thead>\n",
       "  <tbody>\n",
       "    <tr>\n",
       "      <th>0</th>\n",
       "      <td>env</td>\n",
       "      <td>0</td>\n",
       "      <td>prob_tv_spread</td>\n",
       "      <td>0.01</td>\n",
       "    </tr>\n",
       "    <tr>\n",
       "      <th>1</th>\n",
       "      <td>env</td>\n",
       "      <td>0</td>\n",
       "      <td>prob_neighbor_spread</td>\n",
       "      <td>0.1</td>\n",
       "    </tr>\n",
       "    <tr>\n",
       "      <th>2</th>\n",
       "      <td>env</td>\n",
       "      <td>1</td>\n",
       "      <td>prob_tv_spread</td>\n",
       "      <td>0.01</td>\n",
       "    </tr>\n",
       "    <tr>\n",
       "      <th>3</th>\n",
       "      <td>env</td>\n",
       "      <td>1</td>\n",
       "      <td>prob_neighbor_spread</td>\n",
       "      <td>0.1</td>\n",
       "    </tr>\n",
       "    <tr>\n",
       "      <th>4</th>\n",
       "      <td>env</td>\n",
       "      <td>2</td>\n",
       "      <td>prob_tv_spread</td>\n",
       "      <td>0.01</td>\n",
       "    </tr>\n",
       "    <tr>\n",
       "      <th>5</th>\n",
       "      <td>env</td>\n",
       "      <td>2</td>\n",
       "      <td>prob_neighbor_spread</td>\n",
       "      <td>0.1</td>\n",
       "    </tr>\n",
       "    <tr>\n",
       "      <th>6</th>\n",
       "      <td>env</td>\n",
       "      <td>3</td>\n",
       "      <td>prob_tv_spread</td>\n",
       "      <td>0.01</td>\n",
       "    </tr>\n",
       "    <tr>\n",
       "      <th>7</th>\n",
       "      <td>env</td>\n",
       "      <td>3</td>\n",
       "      <td>prob_neighbor_spread</td>\n",
       "      <td>0.1</td>\n",
       "    </tr>\n",
       "    <tr>\n",
       "      <th>8</th>\n",
       "      <td>env</td>\n",
       "      <td>4</td>\n",
       "      <td>prob_tv_spread</td>\n",
       "      <td>0.01</td>\n",
       "    </tr>\n",
       "    <tr>\n",
       "      <th>9</th>\n",
       "      <td>env</td>\n",
       "      <td>4</td>\n",
       "      <td>prob_neighbor_spread</td>\n",
       "      <td>0.1</td>\n",
       "    </tr>\n",
       "    <tr>\n",
       "      <th>10</th>\n",
       "      <td>env</td>\n",
       "      <td>5</td>\n",
       "      <td>prob_tv_spread</td>\n",
       "      <td>0.01</td>\n",
       "    </tr>\n",
       "    <tr>\n",
       "      <th>11</th>\n",
       "      <td>env</td>\n",
       "      <td>5</td>\n",
       "      <td>prob_neighbor_spread</td>\n",
       "      <td>0.1</td>\n",
       "    </tr>\n",
       "    <tr>\n",
       "      <th>12</th>\n",
       "      <td>env</td>\n",
       "      <td>6</td>\n",
       "      <td>prob_tv_spread</td>\n",
       "      <td>0.01</td>\n",
       "    </tr>\n",
       "    <tr>\n",
       "      <th>13</th>\n",
       "      <td>env</td>\n",
       "      <td>6</td>\n",
       "      <td>prob_neighbor_spread</td>\n",
       "      <td>0.1</td>\n",
       "    </tr>\n",
       "    <tr>\n",
       "      <th>14</th>\n",
       "      <td>env</td>\n",
       "      <td>7</td>\n",
       "      <td>prob_tv_spread</td>\n",
       "      <td>0.01</td>\n",
       "    </tr>\n",
       "    <tr>\n",
       "      <th>15</th>\n",
       "      <td>env</td>\n",
       "      <td>7</td>\n",
       "      <td>prob_neighbor_spread</td>\n",
       "      <td>0.1</td>\n",
       "    </tr>\n",
       "    <tr>\n",
       "      <th>16</th>\n",
       "      <td>env</td>\n",
       "      <td>8</td>\n",
       "      <td>prob_tv_spread</td>\n",
       "      <td>0.01</td>\n",
       "    </tr>\n",
       "    <tr>\n",
       "      <th>17</th>\n",
       "      <td>env</td>\n",
       "      <td>8</td>\n",
       "      <td>prob_neighbor_spread</td>\n",
       "      <td>0.1</td>\n",
       "    </tr>\n",
       "    <tr>\n",
       "      <th>18</th>\n",
       "      <td>env</td>\n",
       "      <td>9</td>\n",
       "      <td>prob_tv_spread</td>\n",
       "      <td>0.01</td>\n",
       "    </tr>\n",
       "    <tr>\n",
       "      <th>19</th>\n",
       "      <td>env</td>\n",
       "      <td>9</td>\n",
       "      <td>prob_neighbor_spread</td>\n",
       "      <td>0.1</td>\n",
       "    </tr>\n",
       "    <tr>\n",
       "      <th>20</th>\n",
       "      <td>env</td>\n",
       "      <td>10</td>\n",
       "      <td>prob_tv_spread</td>\n",
       "      <td>0.01</td>\n",
       "    </tr>\n",
       "    <tr>\n",
       "      <th>21</th>\n",
       "      <td>env</td>\n",
       "      <td>10</td>\n",
       "      <td>prob_neighbor_spread</td>\n",
       "      <td>0.1</td>\n",
       "    </tr>\n",
       "    <tr>\n",
       "      <th>22</th>\n",
       "      <td>env</td>\n",
       "      <td>11</td>\n",
       "      <td>prob_tv_spread</td>\n",
       "      <td>0.01</td>\n",
       "    </tr>\n",
       "    <tr>\n",
       "      <th>23</th>\n",
       "      <td>env</td>\n",
       "      <td>11</td>\n",
       "      <td>prob_neighbor_spread</td>\n",
       "      <td>0.1</td>\n",
       "    </tr>\n",
       "    <tr>\n",
       "      <th>24</th>\n",
       "      <td>env</td>\n",
       "      <td>12</td>\n",
       "      <td>prob_tv_spread</td>\n",
       "      <td>0.01</td>\n",
       "    </tr>\n",
       "    <tr>\n",
       "      <th>25</th>\n",
       "      <td>env</td>\n",
       "      <td>12</td>\n",
       "      <td>prob_neighbor_spread</td>\n",
       "      <td>0.1</td>\n",
       "    </tr>\n",
       "    <tr>\n",
       "      <th>26</th>\n",
       "      <td>env</td>\n",
       "      <td>13</td>\n",
       "      <td>prob_tv_spread</td>\n",
       "      <td>0.01</td>\n",
       "    </tr>\n",
       "    <tr>\n",
       "      <th>27</th>\n",
       "      <td>env</td>\n",
       "      <td>13</td>\n",
       "      <td>prob_neighbor_spread</td>\n",
       "      <td>0.1</td>\n",
       "    </tr>\n",
       "    <tr>\n",
       "      <th>28</th>\n",
       "      <td>env</td>\n",
       "      <td>14</td>\n",
       "      <td>prob_tv_spread</td>\n",
       "      <td>0.01</td>\n",
       "    </tr>\n",
       "    <tr>\n",
       "      <th>29</th>\n",
       "      <td>env</td>\n",
       "      <td>14</td>\n",
       "      <td>prob_neighbor_spread</td>\n",
       "      <td>0.1</td>\n",
       "    </tr>\n",
       "    <tr>\n",
       "      <th>...</th>\n",
       "      <td>...</td>\n",
       "      <td>...</td>\n",
       "      <td>...</td>\n",
       "      <td>...</td>\n",
       "    </tr>\n",
       "    <tr>\n",
       "      <th>21012</th>\n",
       "      <td>499</td>\n",
       "      <td>6</td>\n",
       "      <td>has_tv</td>\n",
       "      <td>True</td>\n",
       "    </tr>\n",
       "    <tr>\n",
       "      <th>21013</th>\n",
       "      <td>499</td>\n",
       "      <td>6</td>\n",
       "      <td>id</td>\n",
       "      <td>neutral</td>\n",
       "    </tr>\n",
       "    <tr>\n",
       "      <th>21014</th>\n",
       "      <td>499</td>\n",
       "      <td>7</td>\n",
       "      <td>has_tv</td>\n",
       "      <td>True</td>\n",
       "    </tr>\n",
       "    <tr>\n",
       "      <th>21015</th>\n",
       "      <td>499</td>\n",
       "      <td>7</td>\n",
       "      <td>id</td>\n",
       "      <td>neutral</td>\n",
       "    </tr>\n",
       "    <tr>\n",
       "      <th>21016</th>\n",
       "      <td>499</td>\n",
       "      <td>8</td>\n",
       "      <td>has_tv</td>\n",
       "      <td>True</td>\n",
       "    </tr>\n",
       "    <tr>\n",
       "      <th>21017</th>\n",
       "      <td>499</td>\n",
       "      <td>8</td>\n",
       "      <td>id</td>\n",
       "      <td>neutral</td>\n",
       "    </tr>\n",
       "    <tr>\n",
       "      <th>21018</th>\n",
       "      <td>499</td>\n",
       "      <td>9</td>\n",
       "      <td>has_tv</td>\n",
       "      <td>True</td>\n",
       "    </tr>\n",
       "    <tr>\n",
       "      <th>21019</th>\n",
       "      <td>499</td>\n",
       "      <td>9</td>\n",
       "      <td>id</td>\n",
       "      <td>neutral</td>\n",
       "    </tr>\n",
       "    <tr>\n",
       "      <th>21020</th>\n",
       "      <td>499</td>\n",
       "      <td>10</td>\n",
       "      <td>has_tv</td>\n",
       "      <td>True</td>\n",
       "    </tr>\n",
       "    <tr>\n",
       "      <th>21021</th>\n",
       "      <td>499</td>\n",
       "      <td>10</td>\n",
       "      <td>id</td>\n",
       "      <td>neutral</td>\n",
       "    </tr>\n",
       "    <tr>\n",
       "      <th>21022</th>\n",
       "      <td>499</td>\n",
       "      <td>11</td>\n",
       "      <td>has_tv</td>\n",
       "      <td>True</td>\n",
       "    </tr>\n",
       "    <tr>\n",
       "      <th>21023</th>\n",
       "      <td>499</td>\n",
       "      <td>11</td>\n",
       "      <td>id</td>\n",
       "      <td>neutral</td>\n",
       "    </tr>\n",
       "    <tr>\n",
       "      <th>21024</th>\n",
       "      <td>499</td>\n",
       "      <td>12</td>\n",
       "      <td>has_tv</td>\n",
       "      <td>True</td>\n",
       "    </tr>\n",
       "    <tr>\n",
       "      <th>21025</th>\n",
       "      <td>499</td>\n",
       "      <td>12</td>\n",
       "      <td>id</td>\n",
       "      <td>neutral</td>\n",
       "    </tr>\n",
       "    <tr>\n",
       "      <th>21026</th>\n",
       "      <td>499</td>\n",
       "      <td>13</td>\n",
       "      <td>has_tv</td>\n",
       "      <td>True</td>\n",
       "    </tr>\n",
       "    <tr>\n",
       "      <th>21027</th>\n",
       "      <td>499</td>\n",
       "      <td>13</td>\n",
       "      <td>id</td>\n",
       "      <td>neutral</td>\n",
       "    </tr>\n",
       "    <tr>\n",
       "      <th>21028</th>\n",
       "      <td>499</td>\n",
       "      <td>14</td>\n",
       "      <td>has_tv</td>\n",
       "      <td>True</td>\n",
       "    </tr>\n",
       "    <tr>\n",
       "      <th>21029</th>\n",
       "      <td>499</td>\n",
       "      <td>14</td>\n",
       "      <td>id</td>\n",
       "      <td>neutral</td>\n",
       "    </tr>\n",
       "    <tr>\n",
       "      <th>21030</th>\n",
       "      <td>499</td>\n",
       "      <td>15</td>\n",
       "      <td>has_tv</td>\n",
       "      <td>True</td>\n",
       "    </tr>\n",
       "    <tr>\n",
       "      <th>21031</th>\n",
       "      <td>499</td>\n",
       "      <td>15</td>\n",
       "      <td>id</td>\n",
       "      <td>neutral</td>\n",
       "    </tr>\n",
       "    <tr>\n",
       "      <th>21032</th>\n",
       "      <td>499</td>\n",
       "      <td>16</td>\n",
       "      <td>has_tv</td>\n",
       "      <td>True</td>\n",
       "    </tr>\n",
       "    <tr>\n",
       "      <th>21033</th>\n",
       "      <td>499</td>\n",
       "      <td>16</td>\n",
       "      <td>id</td>\n",
       "      <td>neutral</td>\n",
       "    </tr>\n",
       "    <tr>\n",
       "      <th>21034</th>\n",
       "      <td>499</td>\n",
       "      <td>17</td>\n",
       "      <td>has_tv</td>\n",
       "      <td>True</td>\n",
       "    </tr>\n",
       "    <tr>\n",
       "      <th>21035</th>\n",
       "      <td>499</td>\n",
       "      <td>17</td>\n",
       "      <td>id</td>\n",
       "      <td>neutral</td>\n",
       "    </tr>\n",
       "    <tr>\n",
       "      <th>21036</th>\n",
       "      <td>499</td>\n",
       "      <td>18</td>\n",
       "      <td>has_tv</td>\n",
       "      <td>True</td>\n",
       "    </tr>\n",
       "    <tr>\n",
       "      <th>21037</th>\n",
       "      <td>499</td>\n",
       "      <td>18</td>\n",
       "      <td>id</td>\n",
       "      <td>neutral</td>\n",
       "    </tr>\n",
       "    <tr>\n",
       "      <th>21038</th>\n",
       "      <td>499</td>\n",
       "      <td>19</td>\n",
       "      <td>has_tv</td>\n",
       "      <td>True</td>\n",
       "    </tr>\n",
       "    <tr>\n",
       "      <th>21039</th>\n",
       "      <td>499</td>\n",
       "      <td>19</td>\n",
       "      <td>id</td>\n",
       "      <td>neutral</td>\n",
       "    </tr>\n",
       "    <tr>\n",
       "      <th>21040</th>\n",
       "      <td>499</td>\n",
       "      <td>20</td>\n",
       "      <td>has_tv</td>\n",
       "      <td>True</td>\n",
       "    </tr>\n",
       "    <tr>\n",
       "      <th>21041</th>\n",
       "      <td>499</td>\n",
       "      <td>20</td>\n",
       "      <td>id</td>\n",
       "      <td>infected</td>\n",
       "    </tr>\n",
       "  </tbody>\n",
       "</table>\n",
       "<p>21042 rows × 4 columns</p>\n",
       "</div>"
      ],
      "text/plain": [
       "      agent_id  tstep             attribute     value\n",
       "0          env      0        prob_tv_spread      0.01\n",
       "1          env      0  prob_neighbor_spread       0.1\n",
       "2          env      1        prob_tv_spread      0.01\n",
       "3          env      1  prob_neighbor_spread       0.1\n",
       "4          env      2        prob_tv_spread      0.01\n",
       "5          env      2  prob_neighbor_spread       0.1\n",
       "6          env      3        prob_tv_spread      0.01\n",
       "7          env      3  prob_neighbor_spread       0.1\n",
       "8          env      4        prob_tv_spread      0.01\n",
       "9          env      4  prob_neighbor_spread       0.1\n",
       "10         env      5        prob_tv_spread      0.01\n",
       "11         env      5  prob_neighbor_spread       0.1\n",
       "12         env      6        prob_tv_spread      0.01\n",
       "13         env      6  prob_neighbor_spread       0.1\n",
       "14         env      7        prob_tv_spread      0.01\n",
       "15         env      7  prob_neighbor_spread       0.1\n",
       "16         env      8        prob_tv_spread      0.01\n",
       "17         env      8  prob_neighbor_spread       0.1\n",
       "18         env      9        prob_tv_spread      0.01\n",
       "19         env      9  prob_neighbor_spread       0.1\n",
       "20         env     10        prob_tv_spread      0.01\n",
       "21         env     10  prob_neighbor_spread       0.1\n",
       "22         env     11        prob_tv_spread      0.01\n",
       "23         env     11  prob_neighbor_spread       0.1\n",
       "24         env     12        prob_tv_spread      0.01\n",
       "25         env     12  prob_neighbor_spread       0.1\n",
       "26         env     13        prob_tv_spread      0.01\n",
       "27         env     13  prob_neighbor_spread       0.1\n",
       "28         env     14        prob_tv_spread      0.01\n",
       "29         env     14  prob_neighbor_spread       0.1\n",
       "...        ...    ...                   ...       ...\n",
       "21012      499      6                has_tv      True\n",
       "21013      499      6                    id   neutral\n",
       "21014      499      7                has_tv      True\n",
       "21015      499      7                    id   neutral\n",
       "21016      499      8                has_tv      True\n",
       "21017      499      8                    id   neutral\n",
       "21018      499      9                has_tv      True\n",
       "21019      499      9                    id   neutral\n",
       "21020      499     10                has_tv      True\n",
       "21021      499     10                    id   neutral\n",
       "21022      499     11                has_tv      True\n",
       "21023      499     11                    id   neutral\n",
       "21024      499     12                has_tv      True\n",
       "21025      499     12                    id   neutral\n",
       "21026      499     13                has_tv      True\n",
       "21027      499     13                    id   neutral\n",
       "21028      499     14                has_tv      True\n",
       "21029      499     14                    id   neutral\n",
       "21030      499     15                has_tv      True\n",
       "21031      499     15                    id   neutral\n",
       "21032      499     16                has_tv      True\n",
       "21033      499     16                    id   neutral\n",
       "21034      499     17                has_tv      True\n",
       "21035      499     17                    id   neutral\n",
       "21036      499     18                has_tv      True\n",
       "21037      499     18                    id   neutral\n",
       "21038      499     19                has_tv      True\n",
       "21039      499     19                    id   neutral\n",
       "21040      499     20                has_tv      True\n",
       "21041      499     20                    id  infected\n",
       "\n",
       "[21042 rows x 4 columns]"
      ]
     },
     "execution_count": 15,
     "metadata": {},
     "output_type": "execute_result"
    }
   ],
   "source": [
    "config_file, df, config  = list(analysis.get_data('soil_output/Spread_barabasi*prob_0.1*', process=False))[0]\n",
    "df"
   ]
  },
  {
   "cell_type": "code",
   "execution_count": 16,
   "metadata": {
    "ExecuteTime": {
     "end_time": "2017-07-03T14:43:17.192030Z",
     "start_time": "2017-07-03T16:43:16.601046+02:00"
    }
   },
   "outputs": [
    {
     "data": {
      "text/html": [
       "<div>\n",
       "<style>\n",
       "    .dataframe thead tr:only-child th {\n",
       "        text-align: right;\n",
       "    }\n",
       "\n",
       "    .dataframe thead th {\n",
       "        text-align: left;\n",
       "    }\n",
       "\n",
       "    .dataframe tbody tr th {\n",
       "        vertical-align: top;\n",
       "    }\n",
       "</style>\n",
       "<table border=\"1\" class=\"dataframe\">\n",
       "  <thead>\n",
       "    <tr style=\"text-align: right;\">\n",
       "      <th>value</th>\n",
       "      <th>0.01</th>\n",
       "      <th>0.1</th>\n",
       "      <th>False</th>\n",
       "      <th>True</th>\n",
       "      <th>infected</th>\n",
       "      <th>neutral</th>\n",
       "    </tr>\n",
       "    <tr>\n",
       "      <th>tstep</th>\n",
       "      <th></th>\n",
       "      <th></th>\n",
       "      <th></th>\n",
       "      <th></th>\n",
       "      <th></th>\n",
       "      <th></th>\n",
       "    </tr>\n",
       "  </thead>\n",
       "  <tbody>\n",
       "    <tr>\n",
       "      <th>0</th>\n",
       "      <td>1.0</td>\n",
       "      <td>1.0</td>\n",
       "      <td>163.0</td>\n",
       "      <td>337.0</td>\n",
       "      <td>0.0</td>\n",
       "      <td>500.0</td>\n",
       "    </tr>\n",
       "    <tr>\n",
       "      <th>1</th>\n",
       "      <td>1.0</td>\n",
       "      <td>1.0</td>\n",
       "      <td>163.0</td>\n",
       "      <td>337.0</td>\n",
       "      <td>3.0</td>\n",
       "      <td>497.0</td>\n",
       "    </tr>\n",
       "    <tr>\n",
       "      <th>2</th>\n",
       "      <td>1.0</td>\n",
       "      <td>1.0</td>\n",
       "      <td>163.0</td>\n",
       "      <td>337.0</td>\n",
       "      <td>6.0</td>\n",
       "      <td>494.0</td>\n",
       "    </tr>\n",
       "    <tr>\n",
       "      <th>3</th>\n",
       "      <td>1.0</td>\n",
       "      <td>1.0</td>\n",
       "      <td>163.0</td>\n",
       "      <td>337.0</td>\n",
       "      <td>12.0</td>\n",
       "      <td>488.0</td>\n",
       "    </tr>\n",
       "    <tr>\n",
       "      <th>4</th>\n",
       "      <td>1.0</td>\n",
       "      <td>1.0</td>\n",
       "      <td>163.0</td>\n",
       "      <td>337.0</td>\n",
       "      <td>23.0</td>\n",
       "      <td>477.0</td>\n",
       "    </tr>\n",
       "    <tr>\n",
       "      <th>5</th>\n",
       "      <td>1.0</td>\n",
       "      <td>1.0</td>\n",
       "      <td>163.0</td>\n",
       "      <td>337.0</td>\n",
       "      <td>36.0</td>\n",
       "      <td>464.0</td>\n",
       "    </tr>\n",
       "    <tr>\n",
       "      <th>6</th>\n",
       "      <td>1.0</td>\n",
       "      <td>1.0</td>\n",
       "      <td>163.0</td>\n",
       "      <td>337.0</td>\n",
       "      <td>53.0</td>\n",
       "      <td>447.0</td>\n",
       "    </tr>\n",
       "    <tr>\n",
       "      <th>7</th>\n",
       "      <td>1.0</td>\n",
       "      <td>1.0</td>\n",
       "      <td>163.0</td>\n",
       "      <td>337.0</td>\n",
       "      <td>79.0</td>\n",
       "      <td>421.0</td>\n",
       "    </tr>\n",
       "    <tr>\n",
       "      <th>8</th>\n",
       "      <td>1.0</td>\n",
       "      <td>1.0</td>\n",
       "      <td>163.0</td>\n",
       "      <td>337.0</td>\n",
       "      <td>119.0</td>\n",
       "      <td>381.0</td>\n",
       "    </tr>\n",
       "    <tr>\n",
       "      <th>9</th>\n",
       "      <td>1.0</td>\n",
       "      <td>1.0</td>\n",
       "      <td>163.0</td>\n",
       "      <td>337.0</td>\n",
       "      <td>164.0</td>\n",
       "      <td>336.0</td>\n",
       "    </tr>\n",
       "    <tr>\n",
       "      <th>10</th>\n",
       "      <td>1.0</td>\n",
       "      <td>1.0</td>\n",
       "      <td>163.0</td>\n",
       "      <td>337.0</td>\n",
       "      <td>204.0</td>\n",
       "      <td>296.0</td>\n",
       "    </tr>\n",
       "    <tr>\n",
       "      <th>11</th>\n",
       "      <td>1.0</td>\n",
       "      <td>1.0</td>\n",
       "      <td>163.0</td>\n",
       "      <td>337.0</td>\n",
       "      <td>254.0</td>\n",
       "      <td>246.0</td>\n",
       "    </tr>\n",
       "    <tr>\n",
       "      <th>12</th>\n",
       "      <td>1.0</td>\n",
       "      <td>1.0</td>\n",
       "      <td>163.0</td>\n",
       "      <td>337.0</td>\n",
       "      <td>293.0</td>\n",
       "      <td>207.0</td>\n",
       "    </tr>\n",
       "    <tr>\n",
       "      <th>13</th>\n",
       "      <td>1.0</td>\n",
       "      <td>1.0</td>\n",
       "      <td>163.0</td>\n",
       "      <td>337.0</td>\n",
       "      <td>336.0</td>\n",
       "      <td>164.0</td>\n",
       "    </tr>\n",
       "    <tr>\n",
       "      <th>14</th>\n",
       "      <td>1.0</td>\n",
       "      <td>1.0</td>\n",
       "      <td>163.0</td>\n",
       "      <td>337.0</td>\n",
       "      <td>365.0</td>\n",
       "      <td>135.0</td>\n",
       "    </tr>\n",
       "    <tr>\n",
       "      <th>15</th>\n",
       "      <td>1.0</td>\n",
       "      <td>1.0</td>\n",
       "      <td>163.0</td>\n",
       "      <td>337.0</td>\n",
       "      <td>391.0</td>\n",
       "      <td>109.0</td>\n",
       "    </tr>\n",
       "    <tr>\n",
       "      <th>16</th>\n",
       "      <td>1.0</td>\n",
       "      <td>1.0</td>\n",
       "      <td>163.0</td>\n",
       "      <td>337.0</td>\n",
       "      <td>407.0</td>\n",
       "      <td>93.0</td>\n",
       "    </tr>\n",
       "    <tr>\n",
       "      <th>17</th>\n",
       "      <td>1.0</td>\n",
       "      <td>1.0</td>\n",
       "      <td>163.0</td>\n",
       "      <td>337.0</td>\n",
       "      <td>424.0</td>\n",
       "      <td>76.0</td>\n",
       "    </tr>\n",
       "    <tr>\n",
       "      <th>18</th>\n",
       "      <td>1.0</td>\n",
       "      <td>1.0</td>\n",
       "      <td>163.0</td>\n",
       "      <td>337.0</td>\n",
       "      <td>442.0</td>\n",
       "      <td>58.0</td>\n",
       "    </tr>\n",
       "    <tr>\n",
       "      <th>19</th>\n",
       "      <td>1.0</td>\n",
       "      <td>1.0</td>\n",
       "      <td>163.0</td>\n",
       "      <td>337.0</td>\n",
       "      <td>452.0</td>\n",
       "      <td>48.0</td>\n",
       "    </tr>\n",
       "    <tr>\n",
       "      <th>20</th>\n",
       "      <td>1.0</td>\n",
       "      <td>1.0</td>\n",
       "      <td>163.0</td>\n",
       "      <td>337.0</td>\n",
       "      <td>464.0</td>\n",
       "      <td>36.0</td>\n",
       "    </tr>\n",
       "  </tbody>\n",
       "</table>\n",
       "</div>"
      ],
      "text/plain": [
       "value  0.01  0.1  False   True  infected  neutral\n",
       "tstep                                            \n",
       "0       1.0  1.0  163.0  337.0       0.0    500.0\n",
       "1       1.0  1.0  163.0  337.0       3.0    497.0\n",
       "2       1.0  1.0  163.0  337.0       6.0    494.0\n",
       "3       1.0  1.0  163.0  337.0      12.0    488.0\n",
       "4       1.0  1.0  163.0  337.0      23.0    477.0\n",
       "5       1.0  1.0  163.0  337.0      36.0    464.0\n",
       "6       1.0  1.0  163.0  337.0      53.0    447.0\n",
       "7       1.0  1.0  163.0  337.0      79.0    421.0\n",
       "8       1.0  1.0  163.0  337.0     119.0    381.0\n",
       "9       1.0  1.0  163.0  337.0     164.0    336.0\n",
       "10      1.0  1.0  163.0  337.0     204.0    296.0\n",
       "11      1.0  1.0  163.0  337.0     254.0    246.0\n",
       "12      1.0  1.0  163.0  337.0     293.0    207.0\n",
       "13      1.0  1.0  163.0  337.0     336.0    164.0\n",
       "14      1.0  1.0  163.0  337.0     365.0    135.0\n",
       "15      1.0  1.0  163.0  337.0     391.0    109.0\n",
       "16      1.0  1.0  163.0  337.0     407.0     93.0\n",
       "17      1.0  1.0  163.0  337.0     424.0     76.0\n",
       "18      1.0  1.0  163.0  337.0     442.0     58.0\n",
       "19      1.0  1.0  163.0  337.0     452.0     48.0\n",
       "20      1.0  1.0  163.0  337.0     464.0     36.0"
      ]
     },
     "execution_count": 16,
     "metadata": {},
     "output_type": "execute_result"
    }
   ],
   "source": [
    "list(analysis.get_data('soil_output/Spread_barabasi*prob_0.1*', process=True))[0][1]"
   ]
  },
  {
   "cell_type": "markdown",
   "metadata": {},
   "source": [
    "If you don't want to work with pandas, you can also use some pre-defined functions from soil to conveniently plot the results:"
   ]
  },
  {
   "cell_type": "code",
   "execution_count": 17,
   "metadata": {
    "ExecuteTime": {
     "end_time": "2017-07-03T14:43:20.937324Z",
     "start_time": "2017-07-03T16:43:17.193845+02:00"
    },
    "scrolled": true
   },
   "outputs": [
    {
     "data": {
      "image/png": "[encoded data removed]",
      "text/plain": [
       "<matplotlib.figure.Figure at 0x7fd082247198>"
      ]
     },
     "metadata": {},
     "output_type": "display_data"
    },
    {
     "data": {
      "image/png": "[encoded data removed]",
      "text/plain": [
       "<matplotlib.figure.Figure at 0x7fd082126630>"
      ]
     },
     "metadata": {},
     "output_type": "display_data"
    },
    {
     "data": {
      "image/png": "[encoded data removed]",
      "text/plain": [
       "<matplotlib.figure.Figure at 0x7fd082126b00>"
      ]
     },
     "metadata": {},
     "output_type": "display_data"
    },
    {
     "data": {
      "image/png": "[encoded data removed]",
      "text/plain": [
       "<matplotlib.figure.Figure at 0x7fd08206ef98>"
      ]
     },
     "metadata": {},
     "output_type": "display_data"
    },
    {
     "data": {
      "image/png": "[encoded data removed]",
      "text/plain": [
       "<matplotlib.figure.Figure at 0x7fd081e8d860>"
      ]
     },
     "metadata": {},
     "output_type": "display_data"
    }
   ],
   "source": [
    "analysis.plot_all('soil_output/Spread_barabasi*', attributes=['id'])"
   ]
  },
  {
   "cell_type": "code",
   "execution_count": 18,
   "metadata": {
    "ExecuteTime": {
     "end_time": "2017-07-03T14:43:49.238790Z",
     "start_time": "2017-07-03T16:43:20.939175+02:00"
    }
   },
   "outputs": [
    {
     "data": {
      "image/png": "[encoded data removed]",
      "text/plain": [
       "<matplotlib.figure.Figure at 0x7fd081c96978>"
      ]
     },
     "metadata": {},
     "output_type": "display_data"
    },
    {
     "data": {
      "image/png": "[encoded data removed]",
      "text/plain": [
       "<matplotlib.figure.Figure at 0x7fd081c99f60>"
      ]
     },
     "metadata": {},
     "output_type": "display_data"
    },
    {
     "data": {
      "image/png": "[encoded data removed]",
      "text/plain": [
       "<matplotlib.figure.Figure at 0x7fd081b4e7f0>"
      ]
     },
     "metadata": {},
     "output_type": "display_data"
    },
    {
     "data": {
      "image/png": "[encoded data removed]",
      "text/plain": [
       "<matplotlib.figure.Figure at 0x7fd0822186a0>"
      ]
     },
     "metadata": {},
     "output_type": "display_data"
    },
    {
     "data": {
      "image/png": "[encoded data removed]",
      "text/plain": [
       "<matplotlib.figure.Figure at 0x7fd0814fb898>"
      ]
     },
     "metadata": {},
     "output_type": "display_data"
    }
   ],
   "source": [
    "analysis.plot_all('soil_output/Spread_erdos*', attributes=['id'])"
   ]
  }
 ],
 "metadata": {
  "kernelspec": {
   "display_name": "Python 3",
   "language": "python",
   "name": "python3"
  },
  "language_info": {
   "codemirror_mode": {
    "name": "ipython",
    "version": 3
   },
   "file_extension": ".py",
   "mimetype": "text/x-python",
   "name": "python",
   "nbconvert_exporter": "python",
   "pygments_lexer": "ipython3",
   "version": "3.6.1"
  },
  "toc": {
   "colors": {
    "hover_highlight": "#DAA520",
    "navigate_num": "#000000",
    "navigate_text": "#333333",
    "running_highlight": "#FF0000",
    "selected_highlight": "#FFD700",
    "sidebar_border": "#EEEEEE",
    "wrapper_background": "#FFFFFF"
   },
   "moveMenuLeft": true,
   "nav_menu": {
    "height": "31px",
    "width": "252px"
   },
   "navigate_menu": true,
   "number_sections": true,
   "sideBar": true,
   "threshold": 4,
   "toc_cell": false,
   "toc_section_display": "block",
   "toc_window_display": true,
   "widenNotebook": false
  }
 },
 "nbformat": 4,
 "nbformat_minor": 2
}
