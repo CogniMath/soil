{
 "cells": [
  {
   "cell_type": "markdown",
   "metadata": {
    "ExecuteTime": {
     "end_time": "2017-10-19T12:41:48.007238Z",
     "start_time": "2017-10-19T14:41:47.980725+02:00"
    }
   },
   "source": [
    "# Soil Tutorial"
   ]
  },
  {
   "cell_type": "markdown",
   "metadata": {
    "ExecuteTime": {
     "end_time": "2017-07-02T16:44:14.120953Z",
     "start_time": "2017-07-02T18:44:14.117152+02:00"
    }
   },
   "source": [
    "## Introduction"
   ]
  },
  {
   "cell_type": "markdown",
   "metadata": {
    "cell_style": "center",
    "collapsed": true
   },
   "source": [
    "This notebook is an introduction to the soil agent-based social network simulation framework.\n",
    "In particular, we will focus on a specific use case: studying the propagation of news in a social network.\n",
    "\n",
    "The steps we will follow are:\n",
    "\n",
    "* Modelling the behavior of agents\n",
    "* Running the simulation using different configurations\n",
    "* Analysing the results of each simulation"
   ]
  },
  {
   "cell_type": "markdown",
   "metadata": {
    "ExecuteTime": {
     "end_time": "2017-07-03T13:38:48.052876Z",
     "start_time": "2017-07-03T15:38:48.044762+02:00"
    }
   },
   "source": [
    "But before that, let's import the soil module and networkx."
   ]
  },
  {
   "cell_type": "code",
   "execution_count": 1,
   "metadata": {
    "ExecuteTime": {
     "end_time": "2017-10-19T15:56:07.621891Z",
     "start_time": "2017-10-19T17:56:06.963273+02:00"
    }
   },
   "outputs": [
    {
     "name": "stdout",
     "output_type": "stream",
     "text": [
      "Populating the interactive namespace from numpy and matplotlib\n"
     ]
    }
   ],
   "source": [
    "import soil\n",
    "import networkx as nx\n",
    " \n",
    "%load_ext autoreload\n",
    "%autoreload 2\n",
    "\n",
    "%pylab inline\n",
    "# To display plots in the notebooed_"
   ]
  },
  {
   "cell_type": "markdown",
   "metadata": {
    "ExecuteTime": {
     "end_time": "2017-07-03T13:41:19.788717Z",
     "start_time": "2017-07-03T15:41:19.785448+02:00"
    }
   },
   "source": [
    "## Basic concepts"
   ]
  },
  {
   "cell_type": "markdown",
   "metadata": {},
   "source": [
    "There are three main elements in a soil simulation:\n",
    "    \n",
    "* The network topology. A simulation may use an existing NetworkX topology, or generate one on the fly\n",
    "* Agents. There are two types: 1) network agents, which are linked to a node in the topology, and 2) environment agents, which are freely assigned to the environment.\n",
    "* The environment. It assigns agents to nodes in the network, and stores the environment parameters (shared state for all agents).\n",
    "\n",
    "Soil is based on ``simpy``, which is an event-based network simulation library.\n",
    "Soil provides several abstractions over events to make developing agents easier.\n",
    "This means you can use events (timeouts, delays) in soil, but for the most part we will assume your models will be step-based.\n"
   ]
  },
  {
   "cell_type": "markdown",
   "metadata": {
    "ExecuteTime": {
     "end_time": "2017-07-02T15:55:12.933978Z",
     "start_time": "2017-07-02T17:55:12.930860+02:00"
    }
   },
   "source": [
    "## Modeling behaviour"
   ]
  },
  {
   "cell_type": "markdown",
   "metadata": {
    "ExecuteTime": {
     "end_time": "2017-07-03T13:49:31.269687Z",
     "start_time": "2017-07-03T15:49:31.257850+02:00"
    }
   },
   "source": [
    "Our first step will be to model how every person in the social network reacts when it comes to news.\n",
    "We will follow a very simple model (a finite state machine).\n",
    "\n",
    "There are two types of people, those who have heard about a newsworthy event (infected) or those who have not (neutral).\n",
    "A neutral person may heard about the news either on the TV (with probability **prob_tv_spread**) or through their friends.\n",
    "Once a person has heard the news, they will spread it to their friends (with a probability **prob_neighbor_spread**).\n",
    "Some users do not have a TV, so they only rely on their friends.\n",
    "\n",
    "The spreading probabilities will change over time due to different factors.\n",
    "We will represent this variance using an environment agent."
   ]
  },
  {
   "cell_type": "markdown",
   "metadata": {},
   "source": [
    "### Network Agents"
   ]
  },
  {
   "cell_type": "markdown",
   "metadata": {
    "ExecuteTime": {
     "end_time": "2017-07-03T14:03:07.171127Z",
     "start_time": "2017-07-03T16:03:07.165779+02:00"
    }
   },
   "source": [
    "A basic network agent in Soil should inherit from ``soil.agents.BaseAgent``, and define its behaviour in every step of the simulation by implementing a ``run(self)`` method.\n",
    "The most important attributes of the agent are:\n",
    "\n",
    "* ``agent.state``, a dictionary with the state of the agent. ``agent.state['id']`` reflects the state id of the agent. That state id can be used to look for other networks in that specific state. The state can be access via the agent as well. For instance:\n",
    "```py\n",
    "a = soil.agents.BaseAgent(env=env)\n",
    "a['hours_of_sleep'] = 10\n",
    "print(a['hours_of_sleep'])\n",
    "```\n",
    "  The state of the agent is stored in every step of the simulation:\n",
    "  ```py\n",
    "  print(a['hours_of_sleep', 10]) # hours of sleep before step #10\n",
    "  print(a[None, 0]) # whole state of the agent before step #0\n",
    "  ```\n",
    "\n",
    "* ``agent.env``, a reference to the environment. Most commonly used to get access to the environment parameters and the topology:\n",
    "    ```py\n",
    "    a.env.G.nodes() # Get all nodes ids in the topology\n",
    "    a.env['minimum_hours_of_sleep']\n",
    "\n",
    "    ```\n",
    "\n",
    "Since our model is a finite state machine, we will be basing it on ``soil.agents.FSM``.\n",
    "\n",
    "With ``soil.agents.FSM``, we do not need to specify a ``step`` method.\n",
    "Instead, we describe every step as a function.\n",
    "To change to another state, a function may return the new state.\n",
    "If no state is returned, the state remains unchanged.[\n",
    "It will consist of two states, ``neutral`` (default) and ``infected``.\n",
    "\n",
    "Here's the code:"
   ]
  },
  {
   "cell_type": "code",
   "execution_count": 2,
   "metadata": {
    "ExecuteTime": {
     "end_time": "2017-10-19T15:56:08.659268Z",
     "start_time": "2017-10-19T17:56:08.606261+02:00"
    },
    "collapsed": true
   },
   "outputs": [],
   "source": [
    "import random\n",
    "\n",
    "class NewsSpread(soil.agents.FSM):\n",
    "    @soil.agents.default_state\n",
    "    @soil.agents.state\n",
    "    def neutral(self):\n",
    "        r = random.random()\n",
    "        if self['has_tv'] and r < self.env['prob_tv_spread']:\n",
    "                return self.infected\n",
    "        return\n",
    "    \n",
    "    @soil.agents.state\n",
    "    def infected(self):\n",
    "        prob_infect = self.env['prob_neighbor_spread']\n",
    "        for neighbor in self.get_neighboring_agents(state_id=self.neutral.id):\n",
    "            r = random.random()\n",
    "            if r < prob_infect:\n",
    "                neighbor.state['id'] = self.infected.id\n",
    "        return\n",
    "        "
   ]
  },
  {
   "cell_type": "markdown",
   "metadata": {
    "ExecuteTime": {
     "end_time": "2017-07-02T12:22:53.931963Z",
     "start_time": "2017-07-02T14:22:53.928340+02:00"
    }
   },
   "source": [
    "### Environment agents"
   ]
  },
  {
   "cell_type": "markdown",
   "metadata": {},
   "source": [
    "Environment agents allow us to control the state of the environment.\n",
    "In this case, we will use an environment agent to simulate a very viral event.\n",
    "\n",
    "When the event happens, the agent will modify the probability of spreading the rumor."
   ]
  },
  {
   "cell_type": "code",
   "execution_count": 3,
   "metadata": {
    "ExecuteTime": {
     "end_time": "2017-10-19T15:56:09.116995Z",
     "start_time": "2017-10-19T17:56:09.081481+02:00"
    },
    "collapsed": true
   },
   "outputs": [],
   "source": [
    "NEIGHBOR_FACTOR = 0.9\n",
    "TV_FACTOR = 0.5\n",
    "class NewsEnvironmentAgent(soil.agents.BaseAgent):\n",
    "    def step(self):\n",
    "        if self.now == self['event_time']:\n",
    "            self.env['prob_tv_spread'] = 1\n",
    "            self.env['prob_neighbor_spread'] = 1\n",
    "        elif self.now > self['event_time']:\n",
    "            self.env['prob_tv_spread'] = self.env['prob_tv_spread'] * TV_FACTOR\n",
    "            self.env['prob_neighbor_spread'] = self.env['prob_neighbor_spread'] * NEIGHBOR_FACTOR"
   ]
  },
  {
   "cell_type": "markdown",
   "metadata": {
    "ExecuteTime": {
     "end_time": "2017-07-02T11:23:18.052235Z",
     "start_time": "2017-07-02T13:23:18.047452+02:00"
    }
   },
   "source": [
    "### Testing the agents"
   ]
  },
  {
   "cell_type": "markdown",
   "metadata": {
    "ExecuteTime": {
     "end_time": "2017-07-02T16:14:54.572431Z",
     "start_time": "2017-07-02T18:14:54.564095+02:00"
    }
   },
   "source": [
    "Feel free to skip this section if this is your first time with soil."
   ]
  },
  {
   "cell_type": "markdown",
   "metadata": {},
   "source": [
    "Testing agents is not easy, and this is not a thorough testing process for agents.\n",
    "Rather, this section is aimed to show you how to access internal pats of soil so you can test your agents."
   ]
  },
  {
   "cell_type": "markdown",
   "metadata": {
    "cell_style": "split"
   },
   "source": [
    "First of all, let's check if our network agent has the states we would expect:"
   ]
  },
  {
   "cell_type": "code",
   "execution_count": 4,
   "metadata": {
    "ExecuteTime": {
     "end_time": "2017-10-19T15:56:11.367368Z",
     "start_time": "2017-10-19T17:56:11.344245+02:00"
    },
    "cell_style": "split"
   },
   "outputs": [
    {
     "data": {
      "text/plain": [
       "{'infected': <function __main__.NewsSpread.infected>,\n",
       " 'neutral': <function __main__.NewsSpread.neutral>}"
      ]
     },
     "execution_count": 4,
     "metadata": {},
     "output_type": "execute_result"
    }
   ],
   "source": [
    "NewsSpread.states"
   ]
  },
  {
   "cell_type": "markdown",
   "metadata": {
    "cell_style": "split"
   },
   "source": [
    "Now, let's run a simulation on a simple network. It is comprised of three nodes:\n"
   ]
  },
  {
   "cell_type": "code",
   "execution_count": 5,
   "metadata": {
    "ExecuteTime": {
     "end_time": "2017-10-19T15:56:12.472479Z",
     "start_time": "2017-10-19T17:56:12.206162+02:00"
    },
    "cell_style": "split",
    "scrolled": false
   },
   "outputs": [
    {
     "data": {
      "image/png": "[encoded data removed]",
      "text/plain": [
       "<matplotlib.figure.Figure at 0x7fd79a7d5860>"
      ]
     },
     "metadata": {},
     "output_type": "display_data"
    }
   ],
   "source": [
    "G = nx.Graph()\n",
    "G.add_edge(0, 1)\n",
    "G.add_edge(0, 2)\n",
    "G.add_edge(2, 3)\n",
    "G.add_node(4)\n",
    "pos = nx.spring_layout(G)\n",
    "nx.draw_networkx(G, pos, node_color='red')\n",
    "nx.draw_networkx(G, pos, nodelist=[0], node_color='blue')"
   ]
  },
  {
   "cell_type": "markdown",
   "metadata": {
    "ExecuteTime": {
     "end_time": "2017-07-03T11:53:30.997756Z",
     "start_time": "2017-07-03T13:53:30.989609+02:00"
    },
    "cell_style": "split"
   },
   "source": [
    "Let's run a simple simulation that assigns a NewsSpread agent to all the nodes in that network.\n",
    "Notice how node 0 is the only one with a TV."
   ]
  },
  {
   "cell_type": "code",
   "execution_count": 6,
   "metadata": {
    "ExecuteTime": {
     "end_time": "2017-10-19T15:56:12.719473Z",
     "start_time": "2017-10-19T17:56:12.653974+02:00"
    },
    "cell_style": "split"
   },
   "outputs": [
    {
     "name": "stderr",
     "output_type": "stream",
     "text": [
      "INFO:soil.utils:Trial: 0\n",
      "INFO:soil.utils:\tRunning\n",
      "INFO:soil.utils:Finished trial in 0.02695441246032715 seconds\n",
      "INFO:soil.utils:NOT dumping results\n",
      "INFO:soil.utils:Finished simulation in 0.03360605239868164 seconds\n"
     ]
    }
   ],
   "source": [
    "env_params = {'prob_tv_spread': 0,\n",
    "             'prob_neighbor_spread': 0}\n",
    "\n",
    "MAX_TIME = 100\n",
    "EVENT_TIME = 10\n",
    "\n",
    "sim = soil.simulation.SoilSimulation(topology=G,\n",
    "                                     num_trials=1,\n",
    "                                     max_time=MAX_TIME,\n",
    "                                     environment_agents=[{'agent_type': NewsEnvironmentAgent,\n",
    "                                                         'state': {\n",
    "                                                             'event_time': EVENT_TIME\n",
    "                                                         }}],\n",
    "                                     network_agents=[{'agent_type': NewsSpread,\n",
    "                                                      'weight': 1}],\n",
    "                                     states={0: {'has_tv': True}},\n",
    "                                     default_state={'has_tv': False},\n",
    "                                     environment_params=env_params)\n",
    "env = sim.run_simulation()[0]"
   ]
  },
  {
   "cell_type": "markdown",
   "metadata": {
    "cell_style": "split"
   },
   "source": [
    "Now we can access the results of the simulation and compare them to our expected results"
   ]
  },
  {
   "cell_type": "code",
   "execution_count": 7,
   "metadata": {
    "ExecuteTime": {
     "end_time": "2017-10-19T15:56:15.004439Z",
     "start_time": "2017-10-19T17:56:14.904160+02:00"
    },
    "cell_style": "split",
    "collapsed": true,
    "scrolled": false
   },
   "outputs": [],
   "source": [
    "agents = list(env.network_agents)\n",
    "\n",
    "# Until the event, all agents are neutral\n",
    "for t in range(10):\n",
    "    for a in agents:\n",
    "        assert a['id', t] == a.neutral.id\n",
    "\n",
    "# After the event, the node with a TV is infected, the rest are not\n",
    "assert agents[0]['id', 11] == NewsSpread.infected.id\n",
    "\n",
    "for a in agents[1:4]:\n",
    "    assert a['id', 11] == NewsSpread.neutral.id\n",
    "\n",
    "# At the end, the agents connected to the infected one will probably be infected, too.\n",
    "assert agents[1]['id', MAX_TIME] == NewsSpread.infected.id\n",
    "assert agents[2]['id', MAX_TIME] == NewsSpread.infected.id\n",
    "\n",
    "# But the node with no friends should not be affected\n",
    "assert agents[4]['id', MAX_TIME] == NewsSpread.neutral.id\n",
    "        "
   ]
  },
  {
   "cell_type": "markdown",
   "metadata": {
    "ExecuteTime": {
     "end_time": "2017-07-02T16:41:09.110652Z",
     "start_time": "2017-07-02T18:41:09.106966+02:00"
    },
    "cell_style": "split"
   },
   "source": [
    "Lastly, let's see if the probabilities have decreased as expected:"
   ]
  },
  {
   "cell_type": "code",
   "execution_count": 8,
   "metadata": {
    "ExecuteTime": {
     "end_time": "2017-10-19T15:56:17.382019Z",
     "start_time": "2017-10-19T17:56:17.340851+02:00"
    },
    "cell_style": "split",
    "collapsed": true
   },
   "outputs": [],
   "source": [
    "assert abs(env.environment_params['prob_neighbor_spread'] - (NEIGHBOR_FACTOR**(MAX_TIME-1-10))) < 10e-4\n",
    "assert abs(env.environment_params['prob_tv_spread'] - (TV_FACTOR**(MAX_TIME-1-10))) < 10e-6"
   ]
  },
  {
   "cell_type": "markdown",
   "metadata": {},
   "source": [
    "## Running the simulation"
   ]
  },
  {
   "cell_type": "markdown",
   "metadata": {
    "ExecuteTime": {
     "end_time": "2017-07-03T11:20:28.566944Z",
     "start_time": "2017-07-03T13:20:28.561052+02:00"
    },
    "cell_style": "split"
   },
   "source": [
    "To run a simulation, we need a configuration.\n",
    "Soil can load configurations from python dictionaries as well as JSON and YAML files.\n",
    "For this demo, we will use a python dictionary:"
   ]
  },
  {
   "cell_type": "code",
   "execution_count": 9,
   "metadata": {
    "ExecuteTime": {
     "end_time": "2017-10-19T15:56:19.477080Z",
     "start_time": "2017-10-19T17:56:19.386840+02:00"
    },
    "cell_style": "split",
    "collapsed": true
   },
   "outputs": [],
   "source": [
    "config = {\n",
    "    'name': 'ExampleSimulation',\n",
    "    'max_time': 20,\n",
    "    'interval': 1,\n",
    "    'num_trials': 1,\n",
    "    'network_params': {\n",
    "       'generator': 'complete_graph',\n",
    "        'n': 500,\n",
    "    },\n",
    "    'network_agents': [\n",
    "        {\n",
    "            'agent_type': NewsSpread,\n",
    "            'weight': 1,\n",
    "            'state': {\n",
    "                'has_tv': False\n",
    "            }\n",
    "        },\n",
    "        {\n",
    "            'agent_type': NewsSpread,\n",
    "            'weight': 2,\n",
    "            'state': {\n",
    "                'has_tv': True\n",
    "            }\n",
    "        }\n",
    "    ],\n",
    "    'environment_agents':[\n",
    "        {'agent_type': NewsEnvironmentAgent,\n",
    "         'state': {\n",
    "             'event_time': 10\n",
    "         }\n",
    "        }\n",
    "    ],\n",
    "    'states': [ {'has_tv': True} ],\n",
    "    'environment_params':{\n",
    "        'prob_tv_spread': 0.01,\n",
    "        'prob_neighbor_spread': 0.5\n",
    "    }\n",
    "}"
   ]
  },
  {
   "cell_type": "markdown",
   "metadata": {
    "ExecuteTime": {
     "end_time": "2017-07-03T11:57:34.219618Z",
     "start_time": "2017-07-03T13:57:34.213817+02:00"
    },
    "cell_style": "split"
   },
   "source": [
    "Let's run our simulation:"
   ]
  },
  {
   "cell_type": "code",
   "execution_count": 10,
   "metadata": {
    "ExecuteTime": {
     "end_time": "2017-10-19T15:56:28.208300Z",
     "start_time": "2017-10-19T17:56:20.515069+02:00"
    },
    "cell_style": "split"
   },
   "outputs": [
    {
     "name": "stderr",
     "output_type": "stream",
     "text": [
      "INFO:soil.utils:Using config(s): ExampleSimulation\n",
      "INFO:soil.utils:Dumping results to soil_output/ExampleSimulation : False\n",
      "INFO:soil.utils:Trial: 0\n",
      "INFO:soil.utils:\tRunning\n",
      "INFO:soil.utils:Finished trial in 5.869051456451416 seconds\n",
      "INFO:soil.utils:NOT dumping results\n",
      "INFO:soil.utils:Finished simulation in 6.9609293937683105 seconds\n"
     ]
    }
   ],
   "source": [
    "soil.simulation.run_from_config(config, dump=False)"
   ]
  },
  {
   "cell_type": "markdown",
   "metadata": {
    "ExecuteTime": {
     "end_time": "2017-07-03T12:03:32.183588Z",
     "start_time": "2017-07-03T14:03:32.167797+02:00"
    },
    "cell_style": "split",
    "collapsed": true
   },
   "source": [
    "In real life, you probably want to run several simulations, varying some of the parameters so that you can compare and answer your research questions.\n",
    "\n",
    "For instance:\n",
    "    \n",
    "* Does the outcome depend on the structure of our network? We will use different generation algorithms to compare them (Barabasi-Albert and Erdos-Renyi)\n",
    "* How does neighbor spreading probability affect my simulation? We will try probability values in the range of [0, 0.4], in intervals of 0.1."
   ]
  },
  {
   "cell_type": "code",
   "execution_count": 11,
   "metadata": {
    "ExecuteTime": {
     "end_time": "2017-10-19T15:57:10.690166Z",
     "start_time": "2017-10-19T17:56:28.210104+02:00"
    },
    "cell_style": "split",
    "scrolled": true
   },
   "outputs": [
    {
     "name": "stderr",
     "output_type": "stream",
     "text": [
      "INFO:soil.utils:Using config(s): Spread_erdos_renyi_graph_prob_0.0\n",
      "INFO:soil.utils:Dumping results to soil_output/Spread_erdos_renyi_graph_prob_0.0 : True\n",
      "INFO:soil.utils:Trial: 0\n",
      "INFO:soil.utils:\tRunning\n",
      "INFO:soil.utils:Finished trial in 1.2258412837982178 seconds\n",
      "INFO:soil.utils:Dumping results to soil_output/Spread_erdos_renyi_graph_prob_0.0\n",
      "INFO:soil.utils:Finished simulation in 5.597268104553223 seconds\n",
      "INFO:soil.utils:Using config(s): Spread_erdos_renyi_graph_prob_0.1\n",
      "INFO:soil.utils:Dumping results to soil_output/Spread_erdos_renyi_graph_prob_0.1 : True\n",
      "INFO:soil.utils:Trial: 0\n",
      "INFO:soil.utils:\tRunning\n",
      "INFO:soil.utils:Finished trial in 1.3026399612426758 seconds\n",
      "INFO:soil.utils:Dumping results to soil_output/Spread_erdos_renyi_graph_prob_0.1\n",
      "INFO:soil.utils:Finished simulation in 5.534018278121948 seconds\n",
      "INFO:soil.utils:Using config(s): Spread_erdos_renyi_graph_prob_0.2\n",
      "INFO:soil.utils:Dumping results to soil_output/Spread_erdos_renyi_graph_prob_0.2 : True\n",
      "INFO:soil.utils:Trial: 0\n",
      "INFO:soil.utils:\tRunning\n",
      "INFO:soil.utils:Finished trial in 1.4764575958251953 seconds\n",
      "INFO:soil.utils:Dumping results to soil_output/Spread_erdos_renyi_graph_prob_0.2\n",
      "INFO:soil.utils:Finished simulation in 6.170421123504639 seconds\n",
      "INFO:soil.utils:Using config(s): Spread_erdos_renyi_graph_prob_0.3\n",
      "INFO:soil.utils:Dumping results to soil_output/Spread_erdos_renyi_graph_prob_0.3 : True\n",
      "INFO:soil.utils:Trial: 0\n",
      "INFO:soil.utils:\tRunning\n",
      "INFO:soil.utils:Finished trial in 1.5429913997650146 seconds\n",
      "INFO:soil.utils:Dumping results to soil_output/Spread_erdos_renyi_graph_prob_0.3\n",
      "INFO:soil.utils:Finished simulation in 5.936013221740723 seconds\n",
      "INFO:soil.utils:Using config(s): Spread_erdos_renyi_graph_prob_0.4\n",
      "INFO:soil.utils:Dumping results to soil_output/Spread_erdos_renyi_graph_prob_0.4 : True\n",
      "INFO:soil.utils:Trial: 0\n",
      "INFO:soil.utils:\tRunning\n",
      "INFO:soil.utils:Finished trial in 1.4097135066986084 seconds\n",
      "INFO:soil.utils:Dumping results to soil_output/Spread_erdos_renyi_graph_prob_0.4\n",
      "INFO:soil.utils:Finished simulation in 5.732810974121094 seconds\n",
      "INFO:soil.utils:Using config(s): Spread_barabasi_albert_graph_prob_0.0\n",
      "INFO:soil.utils:Dumping results to soil_output/Spread_barabasi_albert_graph_prob_0.0 : True\n",
      "INFO:soil.utils:Trial: 0\n",
      "INFO:soil.utils:\tRunning\n",
      "INFO:soil.utils:Finished trial in 0.751497745513916 seconds\n",
      "INFO:soil.utils:Dumping results to soil_output/Spread_barabasi_albert_graph_prob_0.0\n",
      "INFO:soil.utils:Finished simulation in 2.3415369987487793 seconds\n",
      "INFO:soil.utils:Using config(s): Spread_barabasi_albert_graph_prob_0.1\n",
      "INFO:soil.utils:Dumping results to soil_output/Spread_barabasi_albert_graph_prob_0.1 : True\n",
      "INFO:soil.utils:Trial: 0\n",
      "INFO:soil.utils:\tRunning\n",
      "INFO:soil.utils:Finished trial in 0.8503265380859375 seconds\n",
      "INFO:soil.utils:Dumping results to soil_output/Spread_barabasi_albert_graph_prob_0.1\n",
      "INFO:soil.utils:Finished simulation in 2.5671920776367188 seconds\n",
      "INFO:soil.utils:Using config(s): Spread_barabasi_albert_graph_prob_0.2\n",
      "INFO:soil.utils:Dumping results to soil_output/Spread_barabasi_albert_graph_prob_0.2 : True\n",
      "INFO:soil.utils:Trial: 0\n",
      "INFO:soil.utils:\tRunning\n",
      "INFO:soil.utils:Finished trial in 0.8511502742767334 seconds\n",
      "INFO:soil.utils:Dumping results to soil_output/Spread_barabasi_albert_graph_prob_0.2\n",
      "INFO:soil.utils:Finished simulation in 2.55816912651062 seconds\n",
      "INFO:soil.utils:Using config(s): Spread_barabasi_albert_graph_prob_0.3\n",
      "INFO:soil.utils:Dumping results to soil_output/Spread_barabasi_albert_graph_prob_0.3 : True\n",
      "INFO:soil.utils:Trial: 0\n",
      "INFO:soil.utils:\tRunning\n",
      "INFO:soil.utils:Finished trial in 0.8982968330383301 seconds\n",
      "INFO:soil.utils:Dumping results to soil_output/Spread_barabasi_albert_graph_prob_0.3\n",
      "INFO:soil.utils:Finished simulation in 2.6871559619903564 seconds\n",
      "INFO:soil.utils:Using config(s): Spread_barabasi_albert_graph_prob_0.4\n",
      "INFO:soil.utils:Dumping results to soil_output/Spread_barabasi_albert_graph_prob_0.4 : True\n",
      "INFO:soil.utils:Trial: 0\n",
      "INFO:soil.utils:\tRunning\n",
      "INFO:soil.utils:Finished trial in 0.9563727378845215 seconds\n",
      "INFO:soil.utils:Dumping results to soil_output/Spread_barabasi_albert_graph_prob_0.4\n",
      "INFO:soil.utils:Finished simulation in 2.5253307819366455 seconds\n"
     ]
    }
   ],
   "source": [
    "network_1 = {\n",
    "       'generator': 'erdos_renyi_graph',\n",
    "        'n': 500,\n",
    "        'p': 0.1\n",
    "}\n",
    "network_2 = {\n",
    "       'generator': 'barabasi_albert_graph',\n",
    "        'n': 500,\n",
    "        'm': 2\n",
    "}\n",
    "\n",
    "\n",
    "for net in [network_1, network_2]:\n",
    "    for i in range(5):\n",
    "        prob = i / 10\n",
    "        config['environment_params']['prob_neighbor_spread'] = prob\n",
    "        config['network_params'] = net\n",
    "        config['name'] = 'Spread_{}_prob_{}'.format(net['generator'], prob)\n",
    "        s = soil.simulation.run_from_config(config)"
   ]
  },
  {
   "cell_type": "markdown",
   "metadata": {
    "ExecuteTime": {
     "end_time": "2017-07-03T11:05:18.043194Z",
     "start_time": "2017-07-03T13:05:18.034699+02:00"
    },
    "cell_style": "split"
   },
   "source": [
    "The results are conveniently stored in pickle (simulation), csv and sqlite (history of agent and environment state) and gexf (dynamic network) format."
   ]
  },
  {
   "cell_type": "code",
   "execution_count": 12,
   "metadata": {
    "ExecuteTime": {
     "end_time": "2017-10-19T15:57:28.534861Z",
     "start_time": "2017-10-19T17:57:28.258984+02:00"
    },
    "cell_style": "split",
    "scrolled": true
   },
   "outputs": [
    {
     "name": "stdout",
     "output_type": "stream",
     "text": [
      "\u001b[01;34msoil_output\u001b[00m\n",
      "├── \u001b[01;34mSpread_barabasi_albert_graph_prob_0.0\u001b[00m\n",
      "│   ├── Spread_barabasi_albert_graph_prob_0.0.dumped.yml\n",
      "│   ├── Spread_barabasi_albert_graph_prob_0.0.simulation.pickle\n",
      "│   ├── Spread_barabasi_albert_graph_prob_0.0_trial_0.backup1508409808.7944386.sqlite\n",
      "│   ├── Spread_barabasi_albert_graph_prob_0.0_trial_0.backup1508428617.9811945.sqlite\n",
      "│   ├── Spread_barabasi_albert_graph_prob_0.0_trial_0.db.sqlite\n",
      "│   ├── Spread_barabasi_albert_graph_prob_0.0_trial_0.environment.csv\n",
      "│   └── Spread_barabasi_albert_graph_prob_0.0_trial_0.gexf\n",
      "├── \u001b[01;34mSpread_barabasi_albert_graph_prob_0.1\u001b[00m\n",
      "│   ├── Spread_barabasi_albert_graph_prob_0.1.dumped.yml\n",
      "│   ├── Spread_barabasi_albert_graph_prob_0.1.simulation.pickle\n",
      "│   ├── Spread_barabasi_albert_graph_prob_0.1_trial_0.backup1508409810.9913027.sqlite\n",
      "│   ├── Spread_barabasi_albert_graph_prob_0.1_trial_0.backup1508428620.3419535.sqlite\n",
      "│   ├── Spread_barabasi_albert_graph_prob_0.1_trial_0.db.sqlite\n",
      "│   ├── Spread_barabasi_albert_graph_prob_0.1_trial_0.environment.csv\n",
      "│   └── Spread_barabasi_albert_graph_prob_0.1_trial_0.gexf\n",
      "├── \u001b[01;34mSpread_barabasi_albert_graph_prob_0.2\u001b[00m\n",
      "│   ├── Spread_barabasi_albert_graph_prob_0.2.dumped.yml\n",
      "│   ├── Spread_barabasi_albert_graph_prob_0.2.simulation.pickle\n",
      "│   ├── Spread_barabasi_albert_graph_prob_0.2_trial_0.backup1508409813.2012305.sqlite\n",
      "│   ├── Spread_barabasi_albert_graph_prob_0.2_trial_0.backup1508428622.91827.sqlite\n",
      "│   ├── Spread_barabasi_albert_graph_prob_0.2_trial_0.db.sqlite\n",
      "│   ├── Spread_barabasi_albert_graph_prob_0.2_trial_0.environment.csv\n",
      "│   └── Spread_barabasi_albert_graph_prob_0.2_trial_0.gexf\n",
      "├── \u001b[01;34mSpread_barabasi_albert_graph_prob_0.3\u001b[00m\n",
      "│   ├── Spread_barabasi_albert_graph_prob_0.3.dumped.yml\n",
      "│   ├── Spread_barabasi_albert_graph_prob_0.3.simulation.pickle\n",
      "│   ├── Spread_barabasi_albert_graph_prob_0.3_trial_0.backup1508409815.5177016.sqlite\n",
      "│   ├── Spread_barabasi_albert_graph_prob_0.3_trial_0.backup1508428625.5117545.sqlite\n",
      "│   ├── Spread_barabasi_albert_graph_prob_0.3_trial_0.db.sqlite\n",
      "│   ├── Spread_barabasi_albert_graph_prob_0.3_trial_0.environment.csv\n",
      "│   └── Spread_barabasi_albert_graph_prob_0.3_trial_0.gexf\n",
      "├── \u001b[01;34mSpread_barabasi_albert_graph_prob_0.4\u001b[00m\n",
      "│   ├── Spread_barabasi_albert_graph_prob_0.4.dumped.yml\n",
      "│   ├── Spread_barabasi_albert_graph_prob_0.4.simulation.pickle\n",
      "│   ├── Spread_barabasi_albert_graph_prob_0.4_trial_0.backup1508409818.1516452.sqlite\n",
      "│   ├── Spread_barabasi_albert_graph_prob_0.4_trial_0.backup1508428628.1986933.sqlite\n",
      "│   ├── Spread_barabasi_albert_graph_prob_0.4_trial_0.db.sqlite\n",
      "│   ├── Spread_barabasi_albert_graph_prob_0.4_trial_0.environment.csv\n",
      "│   └── Spread_barabasi_albert_graph_prob_0.4_trial_0.gexf\n",
      "├── \u001b[01;34mSpread_erdos_renyi_graph_prob_0.0\u001b[00m\n",
      "│   ├── Spread_erdos_renyi_graph_prob_0.0.dumped.yml\n",
      "│   ├── Spread_erdos_renyi_graph_prob_0.0.simulation.pickle\n",
      "│   ├── Spread_erdos_renyi_graph_prob_0.0_trial_0.backup1508409781.0791047.sqlite\n",
      "│   ├── Spread_erdos_renyi_graph_prob_0.0_trial_0.backup1508428588.625598.sqlite\n",
      "│   ├── Spread_erdos_renyi_graph_prob_0.0_trial_0.db.sqlite\n",
      "│   ├── Spread_erdos_renyi_graph_prob_0.0_trial_0.environment.csv\n",
      "│   └── Spread_erdos_renyi_graph_prob_0.0_trial_0.gexf\n",
      "├── \u001b[01;34mSpread_erdos_renyi_graph_prob_0.1\u001b[00m\n",
      "│   ├── Spread_erdos_renyi_graph_prob_0.1.dumped.yml\n",
      "│   ├── Spread_erdos_renyi_graph_prob_0.1.simulation.pickle\n",
      "│   ├── Spread_erdos_renyi_graph_prob_0.1_trial_0.backup1508409786.6177793.sqlite\n",
      "│   ├── Spread_erdos_renyi_graph_prob_0.1_trial_0.backup1508428594.3783743.sqlite\n",
      "│   ├── Spread_erdos_renyi_graph_prob_0.1_trial_0.db.sqlite\n",
      "│   ├── Spread_erdos_renyi_graph_prob_0.1_trial_0.environment.csv\n",
      "│   └── Spread_erdos_renyi_graph_prob_0.1_trial_0.gexf\n",
      "├── \u001b[01;34mSpread_erdos_renyi_graph_prob_0.2\u001b[00m\n",
      "│   ├── Spread_erdos_renyi_graph_prob_0.2.dumped.yml\n",
      "│   ├── Spread_erdos_renyi_graph_prob_0.2.simulation.pickle\n",
      "│   ├── Spread_erdos_renyi_graph_prob_0.2_trial_0.backup1508409791.9751768.sqlite\n",
      "│   ├── Spread_erdos_renyi_graph_prob_0.2_trial_0.backup1508428600.041021.sqlite\n",
      "│   ├── Spread_erdos_renyi_graph_prob_0.2_trial_0.db.sqlite\n",
      "│   ├── Spread_erdos_renyi_graph_prob_0.2_trial_0.environment.csv\n",
      "│   └── Spread_erdos_renyi_graph_prob_0.2_trial_0.gexf\n",
      "├── \u001b[01;34mSpread_erdos_renyi_graph_prob_0.3\u001b[00m\n",
      "│   ├── Spread_erdos_renyi_graph_prob_0.3.dumped.yml\n",
      "│   ├── Spread_erdos_renyi_graph_prob_0.3.simulation.pickle\n",
      "│   ├── Spread_erdos_renyi_graph_prob_0.3_trial_0.backup1508409797.606661.sqlite\n",
      "│   ├── Spread_erdos_renyi_graph_prob_0.3_trial_0.backup1508428606.2884977.sqlite\n",
      "│   ├── Spread_erdos_renyi_graph_prob_0.3_trial_0.db.sqlite\n",
      "│   ├── Spread_erdos_renyi_graph_prob_0.3_trial_0.environment.csv\n",
      "│   └── Spread_erdos_renyi_graph_prob_0.3_trial_0.gexf\n",
      "└── \u001b[01;34mSpread_erdos_renyi_graph_prob_0.4\u001b[00m\n",
      "    ├── Spread_erdos_renyi_graph_prob_0.4.dumped.yml\n",
      "    ├── Spread_erdos_renyi_graph_prob_0.4.simulation.pickle\n",
      "    ├── Spread_erdos_renyi_graph_prob_0.4_trial_0.backup1508409803.4306188.sqlite\n",
      "    ├── Spread_erdos_renyi_graph_prob_0.4_trial_0.backup1508428612.3312593.sqlite\n",
      "    ├── Spread_erdos_renyi_graph_prob_0.4_trial_0.db.sqlite\n",
      "    ├── Spread_erdos_renyi_graph_prob_0.4_trial_0.environment.csv\n",
      "    └── Spread_erdos_renyi_graph_prob_0.4_trial_0.gexf\n",
      "\n",
      "10 directories, 70 files\n",
      "2.5M\tsoil_output/Spread_barabasi_albert_graph_prob_0.0\n",
      "2.5M\tsoil_output/Spread_barabasi_albert_graph_prob_0.1\n",
      "2.5M\tsoil_output/Spread_barabasi_albert_graph_prob_0.2\n",
      "2.5M\tsoil_output/Spread_barabasi_albert_graph_prob_0.3\n",
      "2.5M\tsoil_output/Spread_barabasi_albert_graph_prob_0.4\n",
      "3.6M\tsoil_output/Spread_erdos_renyi_graph_prob_0.0\n",
      "3.7M\tsoil_output/Spread_erdos_renyi_graph_prob_0.1\n",
      "3.7M\tsoil_output/Spread_erdos_renyi_graph_prob_0.2\n",
      "3.7M\tsoil_output/Spread_erdos_renyi_graph_prob_0.3\n",
      "3.7M\tsoil_output/Spread_erdos_renyi_graph_prob_0.4\n"
     ]
    }
   ],
   "source": [
    "!tree soil_output\n",
    "!du -xh soil_output/*"
   ]
  },
  {
   "cell_type": "markdown",
   "metadata": {
    "ExecuteTime": {
     "end_time": "2017-07-02T10:40:14.384177Z",
     "start_time": "2017-07-02T12:40:14.381885+02:00"
    }
   },
   "source": [
    "## Analysing the results"
   ]
  },
  {
   "cell_type": "markdown",
   "metadata": {},
   "source": [
    "### Loading data"
   ]
  },
  {
   "cell_type": "markdown",
   "metadata": {},
   "source": [
    "Once the simulations are over, we can use soil to analyse the results.\n",
    "\n",
    "Soil allows you to load results for specific trials, or for a set of trials if you specify a pattern. The specific methods are:\n",
    "\n",
    "* `analysis.read_data(<directory pattern>)` to load all the results from a directory. e.g. `read_data('my_simulation/')`. For each trial it finds in each folder matching the pattern, it will return the dumped configuration for the simulation, the results of the trial, and the configuration itself. By default, it will try to load data from the sqlite database. \n",
    "* `analysis.read_csv(<csv_file>)` to load all the results from a CSV file. e.g. `read_csv('my_simulation/my_simulation_trial0.environment.csv')`\n",
    "* `analysis.read_sql(<sqlite_file>)` to load all the results from a sqlite database . e.g. `read_sql('my_simulation/my_simulation_trial0.db.sqlite')`"
   ]
  },
  {
   "cell_type": "markdown",
   "metadata": {
    "ExecuteTime": {
     "end_time": "2017-07-03T14:44:30.978223Z",
     "start_time": "2017-07-03T16:44:30.971952+02:00"
    }
   },
   "source": [
    "Let's see it in action by loading the stored results into a pandas dataframe:"
   ]
  },
  {
   "cell_type": "code",
   "execution_count": 13,
   "metadata": {
    "ExecuteTime": {
     "end_time": "2017-10-19T15:57:43.662893Z",
     "start_time": "2017-10-19T17:57:43.632252+02:00"
    },
    "cell_style": "center",
    "collapsed": true
   },
   "outputs": [],
   "source": [
    "from soil.analysis import *"
   ]
  },
  {
   "cell_type": "code",
   "execution_count": 14,
   "metadata": {
    "ExecuteTime": {
     "end_time": "2017-10-19T15:57:44.101253Z",
     "start_time": "2017-10-19T17:57:44.039710+02:00"
    },
    "scrolled": true
   },
   "outputs": [
    {
     "data": {
      "text/html": [
       "<div>\n",
       "<style>\n",
       "    .dataframe thead tr:only-child th {\n",
       "        text-align: right;\n",
       "    }\n",
       "\n",
       "    .dataframe thead th {\n",
       "        text-align: left;\n",
       "    }\n",
       "\n",
       "    .dataframe tbody tr th {\n",
       "        vertical-align: top;\n",
       "    }\n",
       "</style>\n",
       "<table border=\"1\" class=\"dataframe\">\n",
       "  <thead>\n",
       "    <tr style=\"text-align: right;\">\n",
       "      <th></th>\n",
       "      <th>agent_id</th>\n",
       "      <th>t_step</th>\n",
       "      <th>key</th>\n",
       "      <th>value</th>\n",
       "      <th>value_type</th>\n",
       "    </tr>\n",
       "  </thead>\n",
       "  <tbody>\n",
       "    <tr>\n",
       "      <th>5</th>\n",
       "      <td>0</td>\n",
       "      <td>0</td>\n",
       "      <td>id</td>\n",
       "      <td>neutral</td>\n",
       "      <td>str</td>\n",
       "    </tr>\n",
       "    <tr>\n",
       "      <th>7</th>\n",
       "      <td>1</td>\n",
       "      <td>0</td>\n",
       "      <td>id</td>\n",
       "      <td>neutral</td>\n",
       "      <td>str</td>\n",
       "    </tr>\n",
       "    <tr>\n",
       "      <th>9</th>\n",
       "      <td>2</td>\n",
       "      <td>0</td>\n",
       "      <td>id</td>\n",
       "      <td>neutral</td>\n",
       "      <td>str</td>\n",
       "    </tr>\n",
       "    <tr>\n",
       "      <th>11</th>\n",
       "      <td>3</td>\n",
       "      <td>0</td>\n",
       "      <td>id</td>\n",
       "      <td>neutral</td>\n",
       "      <td>str</td>\n",
       "    </tr>\n",
       "    <tr>\n",
       "      <th>13</th>\n",
       "      <td>4</td>\n",
       "      <td>0</td>\n",
       "      <td>id</td>\n",
       "      <td>neutral</td>\n",
       "      <td>str</td>\n",
       "    </tr>\n",
       "    <tr>\n",
       "      <th>15</th>\n",
       "      <td>5</td>\n",
       "      <td>0</td>\n",
       "      <td>id</td>\n",
       "      <td>neutral</td>\n",
       "      <td>str</td>\n",
       "    </tr>\n",
       "    <tr>\n",
       "      <th>17</th>\n",
       "      <td>6</td>\n",
       "      <td>0</td>\n",
       "      <td>id</td>\n",
       "      <td>neutral</td>\n",
       "      <td>str</td>\n",
       "    </tr>\n",
       "    <tr>\n",
       "      <th>19</th>\n",
       "      <td>7</td>\n",
       "      <td>0</td>\n",
       "      <td>id</td>\n",
       "      <td>neutral</td>\n",
       "      <td>str</td>\n",
       "    </tr>\n",
       "    <tr>\n",
       "      <th>21</th>\n",
       "      <td>8</td>\n",
       "      <td>0</td>\n",
       "      <td>id</td>\n",
       "      <td>neutral</td>\n",
       "      <td>str</td>\n",
       "    </tr>\n",
       "    <tr>\n",
       "      <th>23</th>\n",
       "      <td>9</td>\n",
       "      <td>0</td>\n",
       "      <td>id</td>\n",
       "      <td>neutral</td>\n",
       "      <td>str</td>\n",
       "    </tr>\n",
       "    <tr>\n",
       "      <th>25</th>\n",
       "      <td>10</td>\n",
       "      <td>0</td>\n",
       "      <td>id</td>\n",
       "      <td>neutral</td>\n",
       "      <td>str</td>\n",
       "    </tr>\n",
       "    <tr>\n",
       "      <th>27</th>\n",
       "      <td>11</td>\n",
       "      <td>0</td>\n",
       "      <td>id</td>\n",
       "      <td>neutral</td>\n",
       "      <td>str</td>\n",
       "    </tr>\n",
       "    <tr>\n",
       "      <th>29</th>\n",
       "      <td>12</td>\n",
       "      <td>0</td>\n",
       "      <td>id</td>\n",
       "      <td>neutral</td>\n",
       "      <td>str</td>\n",
       "    </tr>\n",
       "    <tr>\n",
       "      <th>31</th>\n",
       "      <td>13</td>\n",
       "      <td>0</td>\n",
       "      <td>id</td>\n",
       "      <td>neutral</td>\n",
       "      <td>str</td>\n",
       "    </tr>\n",
       "    <tr>\n",
       "      <th>33</th>\n",
       "      <td>14</td>\n",
       "      <td>0</td>\n",
       "      <td>id</td>\n",
       "      <td>neutral</td>\n",
       "      <td>str</td>\n",
       "    </tr>\n",
       "    <tr>\n",
       "      <th>35</th>\n",
       "      <td>15</td>\n",
       "      <td>0</td>\n",
       "      <td>id</td>\n",
       "      <td>neutral</td>\n",
       "      <td>str</td>\n",
       "    </tr>\n",
       "    <tr>\n",
       "      <th>37</th>\n",
       "      <td>16</td>\n",
       "      <td>0</td>\n",
       "      <td>id</td>\n",
       "      <td>neutral</td>\n",
       "      <td>str</td>\n",
       "    </tr>\n",
       "    <tr>\n",
       "      <th>39</th>\n",
       "      <td>17</td>\n",
       "      <td>0</td>\n",
       "      <td>id</td>\n",
       "      <td>neutral</td>\n",
       "      <td>str</td>\n",
       "    </tr>\n",
       "    <tr>\n",
       "      <th>41</th>\n",
       "      <td>18</td>\n",
       "      <td>0</td>\n",
       "      <td>id</td>\n",
       "      <td>neutral</td>\n",
       "      <td>str</td>\n",
       "    </tr>\n",
       "    <tr>\n",
       "      <th>43</th>\n",
       "      <td>19</td>\n",
       "      <td>0</td>\n",
       "      <td>id</td>\n",
       "      <td>neutral</td>\n",
       "      <td>str</td>\n",
       "    </tr>\n",
       "    <tr>\n",
       "      <th>45</th>\n",
       "      <td>20</td>\n",
       "      <td>0</td>\n",
       "      <td>id</td>\n",
       "      <td>neutral</td>\n",
       "      <td>str</td>\n",
       "    </tr>\n",
       "    <tr>\n",
       "      <th>47</th>\n",
       "      <td>21</td>\n",
       "      <td>0</td>\n",
       "      <td>id</td>\n",
       "      <td>neutral</td>\n",
       "      <td>str</td>\n",
       "    </tr>\n",
       "    <tr>\n",
       "      <th>49</th>\n",
       "      <td>22</td>\n",
       "      <td>0</td>\n",
       "      <td>id</td>\n",
       "      <td>neutral</td>\n",
       "      <td>str</td>\n",
       "    </tr>\n",
       "    <tr>\n",
       "      <th>51</th>\n",
       "      <td>23</td>\n",
       "      <td>0</td>\n",
       "      <td>id</td>\n",
       "      <td>neutral</td>\n",
       "      <td>str</td>\n",
       "    </tr>\n",
       "    <tr>\n",
       "      <th>53</th>\n",
       "      <td>24</td>\n",
       "      <td>0</td>\n",
       "      <td>id</td>\n",
       "      <td>neutral</td>\n",
       "      <td>str</td>\n",
       "    </tr>\n",
       "    <tr>\n",
       "      <th>55</th>\n",
       "      <td>25</td>\n",
       "      <td>0</td>\n",
       "      <td>id</td>\n",
       "      <td>neutral</td>\n",
       "      <td>str</td>\n",
       "    </tr>\n",
       "    <tr>\n",
       "      <th>57</th>\n",
       "      <td>26</td>\n",
       "      <td>0</td>\n",
       "      <td>id</td>\n",
       "      <td>neutral</td>\n",
       "      <td>str</td>\n",
       "    </tr>\n",
       "    <tr>\n",
       "      <th>59</th>\n",
       "      <td>27</td>\n",
       "      <td>0</td>\n",
       "      <td>id</td>\n",
       "      <td>neutral</td>\n",
       "      <td>str</td>\n",
       "    </tr>\n",
       "    <tr>\n",
       "      <th>61</th>\n",
       "      <td>28</td>\n",
       "      <td>0</td>\n",
       "      <td>id</td>\n",
       "      <td>neutral</td>\n",
       "      <td>str</td>\n",
       "    </tr>\n",
       "    <tr>\n",
       "      <th>63</th>\n",
       "      <td>29</td>\n",
       "      <td>0</td>\n",
       "      <td>id</td>\n",
       "      <td>neutral</td>\n",
       "      <td>str</td>\n",
       "    </tr>\n",
       "    <tr>\n",
       "      <th>...</th>\n",
       "      <td>...</td>\n",
       "      <td>...</td>\n",
       "      <td>...</td>\n",
       "      <td>...</td>\n",
       "      <td>...</td>\n",
       "    </tr>\n",
       "    <tr>\n",
       "      <th>21025</th>\n",
       "      <td>470</td>\n",
       "      <td>20</td>\n",
       "      <td>id</td>\n",
       "      <td>infected</td>\n",
       "      <td>str</td>\n",
       "    </tr>\n",
       "    <tr>\n",
       "      <th>21027</th>\n",
       "      <td>471</td>\n",
       "      <td>20</td>\n",
       "      <td>id</td>\n",
       "      <td>infected</td>\n",
       "      <td>str</td>\n",
       "    </tr>\n",
       "    <tr>\n",
       "      <th>21029</th>\n",
       "      <td>472</td>\n",
       "      <td>20</td>\n",
       "      <td>id</td>\n",
       "      <td>infected</td>\n",
       "      <td>str</td>\n",
       "    </tr>\n",
       "    <tr>\n",
       "      <th>21031</th>\n",
       "      <td>473</td>\n",
       "      <td>20</td>\n",
       "      <td>id</td>\n",
       "      <td>infected</td>\n",
       "      <td>str</td>\n",
       "    </tr>\n",
       "    <tr>\n",
       "      <th>21033</th>\n",
       "      <td>474</td>\n",
       "      <td>20</td>\n",
       "      <td>id</td>\n",
       "      <td>infected</td>\n",
       "      <td>str</td>\n",
       "    </tr>\n",
       "    <tr>\n",
       "      <th>21035</th>\n",
       "      <td>475</td>\n",
       "      <td>20</td>\n",
       "      <td>id</td>\n",
       "      <td>infected</td>\n",
       "      <td>str</td>\n",
       "    </tr>\n",
       "    <tr>\n",
       "      <th>21037</th>\n",
       "      <td>476</td>\n",
       "      <td>20</td>\n",
       "      <td>id</td>\n",
       "      <td>infected</td>\n",
       "      <td>str</td>\n",
       "    </tr>\n",
       "    <tr>\n",
       "      <th>21039</th>\n",
       "      <td>477</td>\n",
       "      <td>20</td>\n",
       "      <td>id</td>\n",
       "      <td>infected</td>\n",
       "      <td>str</td>\n",
       "    </tr>\n",
       "    <tr>\n",
       "      <th>21041</th>\n",
       "      <td>478</td>\n",
       "      <td>20</td>\n",
       "      <td>id</td>\n",
       "      <td>infected</td>\n",
       "      <td>str</td>\n",
       "    </tr>\n",
       "    <tr>\n",
       "      <th>21043</th>\n",
       "      <td>479</td>\n",
       "      <td>20</td>\n",
       "      <td>id</td>\n",
       "      <td>infected</td>\n",
       "      <td>str</td>\n",
       "    </tr>\n",
       "    <tr>\n",
       "      <th>21045</th>\n",
       "      <td>480</td>\n",
       "      <td>20</td>\n",
       "      <td>id</td>\n",
       "      <td>infected</td>\n",
       "      <td>str</td>\n",
       "    </tr>\n",
       "    <tr>\n",
       "      <th>21047</th>\n",
       "      <td>481</td>\n",
       "      <td>20</td>\n",
       "      <td>id</td>\n",
       "      <td>infected</td>\n",
       "      <td>str</td>\n",
       "    </tr>\n",
       "    <tr>\n",
       "      <th>21049</th>\n",
       "      <td>482</td>\n",
       "      <td>20</td>\n",
       "      <td>id</td>\n",
       "      <td>infected</td>\n",
       "      <td>str</td>\n",
       "    </tr>\n",
       "    <tr>\n",
       "      <th>21051</th>\n",
       "      <td>483</td>\n",
       "      <td>20</td>\n",
       "      <td>id</td>\n",
       "      <td>infected</td>\n",
       "      <td>str</td>\n",
       "    </tr>\n",
       "    <tr>\n",
       "      <th>21053</th>\n",
       "      <td>484</td>\n",
       "      <td>20</td>\n",
       "      <td>id</td>\n",
       "      <td>infected</td>\n",
       "      <td>str</td>\n",
       "    </tr>\n",
       "    <tr>\n",
       "      <th>21055</th>\n",
       "      <td>485</td>\n",
       "      <td>20</td>\n",
       "      <td>id</td>\n",
       "      <td>infected</td>\n",
       "      <td>str</td>\n",
       "    </tr>\n",
       "    <tr>\n",
       "      <th>21057</th>\n",
       "      <td>486</td>\n",
       "      <td>20</td>\n",
       "      <td>id</td>\n",
       "      <td>infected</td>\n",
       "      <td>str</td>\n",
       "    </tr>\n",
       "    <tr>\n",
       "      <th>21059</th>\n",
       "      <td>487</td>\n",
       "      <td>20</td>\n",
       "      <td>id</td>\n",
       "      <td>infected</td>\n",
       "      <td>str</td>\n",
       "    </tr>\n",
       "    <tr>\n",
       "      <th>21061</th>\n",
       "      <td>488</td>\n",
       "      <td>20</td>\n",
       "      <td>id</td>\n",
       "      <td>infected</td>\n",
       "      <td>str</td>\n",
       "    </tr>\n",
       "    <tr>\n",
       "      <th>21063</th>\n",
       "      <td>489</td>\n",
       "      <td>20</td>\n",
       "      <td>id</td>\n",
       "      <td>infected</td>\n",
       "      <td>str</td>\n",
       "    </tr>\n",
       "    <tr>\n",
       "      <th>21065</th>\n",
       "      <td>490</td>\n",
       "      <td>20</td>\n",
       "      <td>id</td>\n",
       "      <td>infected</td>\n",
       "      <td>str</td>\n",
       "    </tr>\n",
       "    <tr>\n",
       "      <th>21067</th>\n",
       "      <td>491</td>\n",
       "      <td>20</td>\n",
       "      <td>id</td>\n",
       "      <td>infected</td>\n",
       "      <td>str</td>\n",
       "    </tr>\n",
       "    <tr>\n",
       "      <th>21069</th>\n",
       "      <td>492</td>\n",
       "      <td>20</td>\n",
       "      <td>id</td>\n",
       "      <td>infected</td>\n",
       "      <td>str</td>\n",
       "    </tr>\n",
       "    <tr>\n",
       "      <th>21071</th>\n",
       "      <td>493</td>\n",
       "      <td>20</td>\n",
       "      <td>id</td>\n",
       "      <td>infected</td>\n",
       "      <td>str</td>\n",
       "    </tr>\n",
       "    <tr>\n",
       "      <th>21073</th>\n",
       "      <td>494</td>\n",
       "      <td>20</td>\n",
       "      <td>id</td>\n",
       "      <td>infected</td>\n",
       "      <td>str</td>\n",
       "    </tr>\n",
       "    <tr>\n",
       "      <th>21075</th>\n",
       "      <td>495</td>\n",
       "      <td>20</td>\n",
       "      <td>id</td>\n",
       "      <td>infected</td>\n",
       "      <td>str</td>\n",
       "    </tr>\n",
       "    <tr>\n",
       "      <th>21077</th>\n",
       "      <td>496</td>\n",
       "      <td>20</td>\n",
       "      <td>id</td>\n",
       "      <td>infected</td>\n",
       "      <td>str</td>\n",
       "    </tr>\n",
       "    <tr>\n",
       "      <th>21079</th>\n",
       "      <td>497</td>\n",
       "      <td>20</td>\n",
       "      <td>id</td>\n",
       "      <td>infected</td>\n",
       "      <td>str</td>\n",
       "    </tr>\n",
       "    <tr>\n",
       "      <th>21081</th>\n",
       "      <td>498</td>\n",
       "      <td>20</td>\n",
       "      <td>id</td>\n",
       "      <td>infected</td>\n",
       "      <td>str</td>\n",
       "    </tr>\n",
       "    <tr>\n",
       "      <th>21083</th>\n",
       "      <td>499</td>\n",
       "      <td>20</td>\n",
       "      <td>id</td>\n",
       "      <td>infected</td>\n",
       "      <td>str</td>\n",
       "    </tr>\n",
       "  </tbody>\n",
       "</table>\n",
       "<p>10500 rows × 5 columns</p>\n",
       "</div>"
      ],
      "text/plain": [
       "      agent_id  t_step key     value value_type\n",
       "5            0       0  id   neutral        str\n",
       "7            1       0  id   neutral        str\n",
       "9            2       0  id   neutral        str\n",
       "11           3       0  id   neutral        str\n",
       "13           4       0  id   neutral        str\n",
       "15           5       0  id   neutral        str\n",
       "17           6       0  id   neutral        str\n",
       "19           7       0  id   neutral        str\n",
       "21           8       0  id   neutral        str\n",
       "23           9       0  id   neutral        str\n",
       "25          10       0  id   neutral        str\n",
       "27          11       0  id   neutral        str\n",
       "29          12       0  id   neutral        str\n",
       "31          13       0  id   neutral        str\n",
       "33          14       0  id   neutral        str\n",
       "35          15       0  id   neutral        str\n",
       "37          16       0  id   neutral        str\n",
       "39          17       0  id   neutral        str\n",
       "41          18       0  id   neutral        str\n",
       "43          19       0  id   neutral        str\n",
       "45          20       0  id   neutral        str\n",
       "47          21       0  id   neutral        str\n",
       "49          22       0  id   neutral        str\n",
       "51          23       0  id   neutral        str\n",
       "53          24       0  id   neutral        str\n",
       "55          25       0  id   neutral        str\n",
       "57          26       0  id   neutral        str\n",
       "59          27       0  id   neutral        str\n",
       "61          28       0  id   neutral        str\n",
       "63          29       0  id   neutral        str\n",
       "...        ...     ...  ..       ...        ...\n",
       "21025      470      20  id  infected        str\n",
       "21027      471      20  id  infected        str\n",
       "21029      472      20  id  infected        str\n",
       "21031      473      20  id  infected        str\n",
       "21033      474      20  id  infected        str\n",
       "21035      475      20  id  infected        str\n",
       "21037      476      20  id  infected        str\n",
       "21039      477      20  id  infected        str\n",
       "21041      478      20  id  infected        str\n",
       "21043      479      20  id  infected        str\n",
       "21045      480      20  id  infected        str\n",
       "21047      481      20  id  infected        str\n",
       "21049      482      20  id  infected        str\n",
       "21051      483      20  id  infected        str\n",
       "21053      484      20  id  infected        str\n",
       "21055      485      20  id  infected        str\n",
       "21057      486      20  id  infected        str\n",
       "21059      487      20  id  infected        str\n",
       "21061      488      20  id  infected        str\n",
       "21063      489      20  id  infected        str\n",
       "21065      490      20  id  infected        str\n",
       "21067      491      20  id  infected        str\n",
       "21069      492      20  id  infected        str\n",
       "21071      493      20  id  infected        str\n",
       "21073      494      20  id  infected        str\n",
       "21075      495      20  id  infected        str\n",
       "21077      496      20  id  infected        str\n",
       "21079      497      20  id  infected        str\n",
       "21081      498      20  id  infected        str\n",
       "21083      499      20  id  infected        str\n",
       "\n",
       "[10500 rows x 5 columns]"
      ]
     },
     "execution_count": 14,
     "metadata": {},
     "output_type": "execute_result"
    }
   ],
   "source": [
    "df  = read_csv('soil_output/Spread_barabasi_albert_graph_prob_0.0/Spread_barabasi_albert_graph_prob_0.0_trial_0.environment.csv', keys=['id'])\n",
    "df"
   ]
  },
  {
   "cell_type": "markdown",
   "metadata": {},
   "source": [
    "Soil can also process the data for us and return a dataframe with as many columns as there are attributes in the environment and the agent states:"
   ]
  },
  {
   "cell_type": "code",
   "execution_count": 15,
   "metadata": {
    "ExecuteTime": {
     "end_time": "2017-10-19T15:57:45.777794Z",
     "start_time": "2017-10-19T17:57:45.698020+02:00"
    },
    "scrolled": true
   },
   "outputs": [
    {
     "data": {
      "text/html": [
       "<div>\n",
       "<style>\n",
       "    .dataframe thead tr:only-child th {\n",
       "        text-align: right;\n",
       "    }\n",
       "\n",
       "    .dataframe thead th {\n",
       "        text-align: left;\n",
       "    }\n",
       "\n",
       "    .dataframe tbody tr th {\n",
       "        vertical-align: top;\n",
       "    }\n",
       "</style>\n",
       "<table border=\"1\" class=\"dataframe\">\n",
       "  <thead>\n",
       "    <tr style=\"text-align: right;\">\n",
       "      <th></th>\n",
       "      <th></th>\n",
       "      <th>id</th>\n",
       "    </tr>\n",
       "    <tr>\n",
       "      <th>t_step</th>\n",
       "      <th>agent_id</th>\n",
       "      <th></th>\n",
       "    </tr>\n",
       "  </thead>\n",
       "  <tbody>\n",
       "    <tr>\n",
       "      <th rowspan=\"30\" valign=\"top\">0</th>\n",
       "      <th>0</th>\n",
       "      <td>neutral</td>\n",
       "    </tr>\n",
       "    <tr>\n",
       "      <th>1</th>\n",
       "      <td>neutral</td>\n",
       "    </tr>\n",
       "    <tr>\n",
       "      <th>10</th>\n",
       "      <td>neutral</td>\n",
       "    </tr>\n",
       "    <tr>\n",
       "      <th>100</th>\n",
       "      <td>neutral</td>\n",
       "    </tr>\n",
       "    <tr>\n",
       "      <th>101</th>\n",
       "      <td>neutral</td>\n",
       "    </tr>\n",
       "    <tr>\n",
       "      <th>102</th>\n",
       "      <td>neutral</td>\n",
       "    </tr>\n",
       "    <tr>\n",
       "      <th>103</th>\n",
       "      <td>neutral</td>\n",
       "    </tr>\n",
       "    <tr>\n",
       "      <th>104</th>\n",
       "      <td>neutral</td>\n",
       "    </tr>\n",
       "    <tr>\n",
       "      <th>105</th>\n",
       "      <td>neutral</td>\n",
       "    </tr>\n",
       "    <tr>\n",
       "      <th>106</th>\n",
       "      <td>neutral</td>\n",
       "    </tr>\n",
       "    <tr>\n",
       "      <th>107</th>\n",
       "      <td>neutral</td>\n",
       "    </tr>\n",
       "    <tr>\n",
       "      <th>108</th>\n",
       "      <td>neutral</td>\n",
       "    </tr>\n",
       "    <tr>\n",
       "      <th>109</th>\n",
       "      <td>neutral</td>\n",
       "    </tr>\n",
       "    <tr>\n",
       "      <th>11</th>\n",
       "      <td>neutral</td>\n",
       "    </tr>\n",
       "    <tr>\n",
       "      <th>110</th>\n",
       "      <td>neutral</td>\n",
       "    </tr>\n",
       "    <tr>\n",
       "      <th>111</th>\n",
       "      <td>neutral</td>\n",
       "    </tr>\n",
       "    <tr>\n",
       "      <th>112</th>\n",
       "      <td>neutral</td>\n",
       "    </tr>\n",
       "    <tr>\n",
       "      <th>113</th>\n",
       "      <td>neutral</td>\n",
       "    </tr>\n",
       "    <tr>\n",
       "      <th>114</th>\n",
       "      <td>neutral</td>\n",
       "    </tr>\n",
       "    <tr>\n",
       "      <th>115</th>\n",
       "      <td>neutral</td>\n",
       "    </tr>\n",
       "    <tr>\n",
       "      <th>116</th>\n",
       "      <td>neutral</td>\n",
       "    </tr>\n",
       "    <tr>\n",
       "      <th>117</th>\n",
       "      <td>neutral</td>\n",
       "    </tr>\n",
       "    <tr>\n",
       "      <th>118</th>\n",
       "      <td>neutral</td>\n",
       "    </tr>\n",
       "    <tr>\n",
       "      <th>119</th>\n",
       "      <td>neutral</td>\n",
       "    </tr>\n",
       "    <tr>\n",
       "      <th>12</th>\n",
       "      <td>neutral</td>\n",
       "    </tr>\n",
       "    <tr>\n",
       "      <th>120</th>\n",
       "      <td>neutral</td>\n",
       "    </tr>\n",
       "    <tr>\n",
       "      <th>121</th>\n",
       "      <td>neutral</td>\n",
       "    </tr>\n",
       "    <tr>\n",
       "      <th>122</th>\n",
       "      <td>neutral</td>\n",
       "    </tr>\n",
       "    <tr>\n",
       "      <th>123</th>\n",
       "      <td>neutral</td>\n",
       "    </tr>\n",
       "    <tr>\n",
       "      <th>124</th>\n",
       "      <td>neutral</td>\n",
       "    </tr>\n",
       "    <tr>\n",
       "      <th>...</th>\n",
       "      <th>...</th>\n",
       "      <td>...</td>\n",
       "    </tr>\n",
       "    <tr>\n",
       "      <th rowspan=\"30\" valign=\"top\">20</th>\n",
       "      <th>72</th>\n",
       "      <td>infected</td>\n",
       "    </tr>\n",
       "    <tr>\n",
       "      <th>73</th>\n",
       "      <td>infected</td>\n",
       "    </tr>\n",
       "    <tr>\n",
       "      <th>74</th>\n",
       "      <td>infected</td>\n",
       "    </tr>\n",
       "    <tr>\n",
       "      <th>75</th>\n",
       "      <td>infected</td>\n",
       "    </tr>\n",
       "    <tr>\n",
       "      <th>76</th>\n",
       "      <td>infected</td>\n",
       "    </tr>\n",
       "    <tr>\n",
       "      <th>77</th>\n",
       "      <td>infected</td>\n",
       "    </tr>\n",
       "    <tr>\n",
       "      <th>78</th>\n",
       "      <td>infected</td>\n",
       "    </tr>\n",
       "    <tr>\n",
       "      <th>79</th>\n",
       "      <td>infected</td>\n",
       "    </tr>\n",
       "    <tr>\n",
       "      <th>8</th>\n",
       "      <td>infected</td>\n",
       "    </tr>\n",
       "    <tr>\n",
       "      <th>80</th>\n",
       "      <td>infected</td>\n",
       "    </tr>\n",
       "    <tr>\n",
       "      <th>81</th>\n",
       "      <td>infected</td>\n",
       "    </tr>\n",
       "    <tr>\n",
       "      <th>82</th>\n",
       "      <td>infected</td>\n",
       "    </tr>\n",
       "    <tr>\n",
       "      <th>83</th>\n",
       "      <td>infected</td>\n",
       "    </tr>\n",
       "    <tr>\n",
       "      <th>84</th>\n",
       "      <td>infected</td>\n",
       "    </tr>\n",
       "    <tr>\n",
       "      <th>85</th>\n",
       "      <td>infected</td>\n",
       "    </tr>\n",
       "    <tr>\n",
       "      <th>86</th>\n",
       "      <td>infected</td>\n",
       "    </tr>\n",
       "    <tr>\n",
       "      <th>87</th>\n",
       "      <td>infected</td>\n",
       "    </tr>\n",
       "    <tr>\n",
       "      <th>88</th>\n",
       "      <td>infected</td>\n",
       "    </tr>\n",
       "    <tr>\n",
       "      <th>89</th>\n",
       "      <td>infected</td>\n",
       "    </tr>\n",
       "    <tr>\n",
       "      <th>9</th>\n",
       "      <td>infected</td>\n",
       "    </tr>\n",
       "    <tr>\n",
       "      <th>90</th>\n",
       "      <td>infected</td>\n",
       "    </tr>\n",
       "    <tr>\n",
       "      <th>91</th>\n",
       "      <td>infected</td>\n",
       "    </tr>\n",
       "    <tr>\n",
       "      <th>92</th>\n",
       "      <td>infected</td>\n",
       "    </tr>\n",
       "    <tr>\n",
       "      <th>93</th>\n",
       "      <td>infected</td>\n",
       "    </tr>\n",
       "    <tr>\n",
       "      <th>94</th>\n",
       "      <td>infected</td>\n",
       "    </tr>\n",
       "    <tr>\n",
       "      <th>95</th>\n",
       "      <td>infected</td>\n",
       "    </tr>\n",
       "    <tr>\n",
       "      <th>96</th>\n",
       "      <td>infected</td>\n",
       "    </tr>\n",
       "    <tr>\n",
       "      <th>97</th>\n",
       "      <td>infected</td>\n",
       "    </tr>\n",
       "    <tr>\n",
       "      <th>98</th>\n",
       "      <td>infected</td>\n",
       "    </tr>\n",
       "    <tr>\n",
       "      <th>99</th>\n",
       "      <td>infected</td>\n",
       "    </tr>\n",
       "  </tbody>\n",
       "</table>\n",
       "<p>10500 rows × 1 columns</p>\n",
       "</div>"
      ],
      "text/plain": [
       "                       id\n",
       "t_step agent_id          \n",
       "0      0          neutral\n",
       "       1          neutral\n",
       "       10         neutral\n",
       "       100        neutral\n",
       "       101        neutral\n",
       "       102        neutral\n",
       "       103        neutral\n",
       "       104        neutral\n",
       "       105        neutral\n",
       "       106        neutral\n",
       "       107        neutral\n",
       "       108        neutral\n",
       "       109        neutral\n",
       "       11         neutral\n",
       "       110        neutral\n",
       "       111        neutral\n",
       "       112        neutral\n",
       "       113        neutral\n",
       "       114        neutral\n",
       "       115        neutral\n",
       "       116        neutral\n",
       "       117        neutral\n",
       "       118        neutral\n",
       "       119        neutral\n",
       "       12         neutral\n",
       "       120        neutral\n",
       "       121        neutral\n",
       "       122        neutral\n",
       "       123        neutral\n",
       "       124        neutral\n",
       "...                   ...\n",
       "20     72        infected\n",
       "       73        infected\n",
       "       74        infected\n",
       "       75        infected\n",
       "       76        infected\n",
       "       77        infected\n",
       "       78        infected\n",
       "       79        infected\n",
       "       8         infected\n",
       "       80        infected\n",
       "       81        infected\n",
       "       82        infected\n",
       "       83        infected\n",
       "       84        infected\n",
       "       85        infected\n",
       "       86        infected\n",
       "       87        infected\n",
       "       88        infected\n",
       "       89        infected\n",
       "       9         infected\n",
       "       90        infected\n",
       "       91        infected\n",
       "       92        infected\n",
       "       93        infected\n",
       "       94        infected\n",
       "       95        infected\n",
       "       96        infected\n",
       "       97        infected\n",
       "       98        infected\n",
       "       99        infected\n",
       "\n",
       "[10500 rows x 1 columns]"
      ]
     },
     "execution_count": 15,
     "metadata": {},
     "output_type": "execute_result"
    }
   ],
   "source": [
    "env, agents = process(df)\n",
    "agents"
   ]
  },
  {
   "cell_type": "markdown",
   "metadata": {
    "ExecuteTime": {
     "end_time": "2017-10-18T14:01:00.669671Z",
     "start_time": "2017-10-18T16:01:00.635624+02:00"
    }
   },
   "source": [
    "The index of the results are the simulation step and the agent_id. Hence, we can access the state of the simulation at a given step: "
   ]
  },
  {
   "cell_type": "code",
   "execution_count": 16,
   "metadata": {
    "ExecuteTime": {
     "end_time": "2017-10-19T15:57:47.132212Z",
     "start_time": "2017-10-19T17:57:47.084737+02:00"
    },
    "scrolled": true
   },
   "outputs": [
    {
     "data": {
      "text/html": [
       "<div>\n",
       "<style>\n",
       "    .dataframe thead tr:only-child th {\n",
       "        text-align: right;\n",
       "    }\n",
       "\n",
       "    .dataframe thead th {\n",
       "        text-align: left;\n",
       "    }\n",
       "\n",
       "    .dataframe tbody tr th {\n",
       "        vertical-align: top;\n",
       "    }\n",
       "</style>\n",
       "<table border=\"1\" class=\"dataframe\">\n",
       "  <thead>\n",
       "    <tr style=\"text-align: right;\">\n",
       "      <th></th>\n",
       "      <th>id</th>\n",
       "    </tr>\n",
       "    <tr>\n",
       "      <th>agent_id</th>\n",
       "      <th></th>\n",
       "    </tr>\n",
       "  </thead>\n",
       "  <tbody>\n",
       "    <tr>\n",
       "      <th>0</th>\n",
       "      <td>neutral</td>\n",
       "    </tr>\n",
       "    <tr>\n",
       "      <th>1</th>\n",
       "      <td>neutral</td>\n",
       "    </tr>\n",
       "    <tr>\n",
       "      <th>10</th>\n",
       "      <td>neutral</td>\n",
       "    </tr>\n",
       "    <tr>\n",
       "      <th>100</th>\n",
       "      <td>neutral</td>\n",
       "    </tr>\n",
       "    <tr>\n",
       "      <th>101</th>\n",
       "      <td>neutral</td>\n",
       "    </tr>\n",
       "    <tr>\n",
       "      <th>102</th>\n",
       "      <td>neutral</td>\n",
       "    </tr>\n",
       "    <tr>\n",
       "      <th>103</th>\n",
       "      <td>neutral</td>\n",
       "    </tr>\n",
       "    <tr>\n",
       "      <th>104</th>\n",
       "      <td>neutral</td>\n",
       "    </tr>\n",
       "    <tr>\n",
       "      <th>105</th>\n",
       "      <td>neutral</td>\n",
       "    </tr>\n",
       "    <tr>\n",
       "      <th>106</th>\n",
       "      <td>neutral</td>\n",
       "    </tr>\n",
       "    <tr>\n",
       "      <th>107</th>\n",
       "      <td>neutral</td>\n",
       "    </tr>\n",
       "    <tr>\n",
       "      <th>108</th>\n",
       "      <td>neutral</td>\n",
       "    </tr>\n",
       "    <tr>\n",
       "      <th>109</th>\n",
       "      <td>neutral</td>\n",
       "    </tr>\n",
       "    <tr>\n",
       "      <th>11</th>\n",
       "      <td>neutral</td>\n",
       "    </tr>\n",
       "    <tr>\n",
       "      <th>110</th>\n",
       "      <td>neutral</td>\n",
       "    </tr>\n",
       "    <tr>\n",
       "      <th>111</th>\n",
       "      <td>neutral</td>\n",
       "    </tr>\n",
       "    <tr>\n",
       "      <th>112</th>\n",
       "      <td>neutral</td>\n",
       "    </tr>\n",
       "    <tr>\n",
       "      <th>113</th>\n",
       "      <td>neutral</td>\n",
       "    </tr>\n",
       "    <tr>\n",
       "      <th>114</th>\n",
       "      <td>neutral</td>\n",
       "    </tr>\n",
       "    <tr>\n",
       "      <th>115</th>\n",
       "      <td>neutral</td>\n",
       "    </tr>\n",
       "    <tr>\n",
       "      <th>116</th>\n",
       "      <td>neutral</td>\n",
       "    </tr>\n",
       "    <tr>\n",
       "      <th>117</th>\n",
       "      <td>neutral</td>\n",
       "    </tr>\n",
       "    <tr>\n",
       "      <th>118</th>\n",
       "      <td>neutral</td>\n",
       "    </tr>\n",
       "    <tr>\n",
       "      <th>119</th>\n",
       "      <td>neutral</td>\n",
       "    </tr>\n",
       "    <tr>\n",
       "      <th>12</th>\n",
       "      <td>neutral</td>\n",
       "    </tr>\n",
       "    <tr>\n",
       "      <th>120</th>\n",
       "      <td>neutral</td>\n",
       "    </tr>\n",
       "    <tr>\n",
       "      <th>121</th>\n",
       "      <td>neutral</td>\n",
       "    </tr>\n",
       "    <tr>\n",
       "      <th>122</th>\n",
       "      <td>neutral</td>\n",
       "    </tr>\n",
       "    <tr>\n",
       "      <th>123</th>\n",
       "      <td>neutral</td>\n",
       "    </tr>\n",
       "    <tr>\n",
       "      <th>124</th>\n",
       "      <td>neutral</td>\n",
       "    </tr>\n",
       "    <tr>\n",
       "      <th>...</th>\n",
       "      <td>...</td>\n",
       "    </tr>\n",
       "    <tr>\n",
       "      <th>72</th>\n",
       "      <td>neutral</td>\n",
       "    </tr>\n",
       "    <tr>\n",
       "      <th>73</th>\n",
       "      <td>neutral</td>\n",
       "    </tr>\n",
       "    <tr>\n",
       "      <th>74</th>\n",
       "      <td>neutral</td>\n",
       "    </tr>\n",
       "    <tr>\n",
       "      <th>75</th>\n",
       "      <td>neutral</td>\n",
       "    </tr>\n",
       "    <tr>\n",
       "      <th>76</th>\n",
       "      <td>neutral</td>\n",
       "    </tr>\n",
       "    <tr>\n",
       "      <th>77</th>\n",
       "      <td>neutral</td>\n",
       "    </tr>\n",
       "    <tr>\n",
       "      <th>78</th>\n",
       "      <td>neutral</td>\n",
       "    </tr>\n",
       "    <tr>\n",
       "      <th>79</th>\n",
       "      <td>neutral</td>\n",
       "    </tr>\n",
       "    <tr>\n",
       "      <th>8</th>\n",
       "      <td>neutral</td>\n",
       "    </tr>\n",
       "    <tr>\n",
       "      <th>80</th>\n",
       "      <td>neutral</td>\n",
       "    </tr>\n",
       "    <tr>\n",
       "      <th>81</th>\n",
       "      <td>neutral</td>\n",
       "    </tr>\n",
       "    <tr>\n",
       "      <th>82</th>\n",
       "      <td>neutral</td>\n",
       "    </tr>\n",
       "    <tr>\n",
       "      <th>83</th>\n",
       "      <td>neutral</td>\n",
       "    </tr>\n",
       "    <tr>\n",
       "      <th>84</th>\n",
       "      <td>neutral</td>\n",
       "    </tr>\n",
       "    <tr>\n",
       "      <th>85</th>\n",
       "      <td>neutral</td>\n",
       "    </tr>\n",
       "    <tr>\n",
       "      <th>86</th>\n",
       "      <td>neutral</td>\n",
       "    </tr>\n",
       "    <tr>\n",
       "      <th>87</th>\n",
       "      <td>neutral</td>\n",
       "    </tr>\n",
       "    <tr>\n",
       "      <th>88</th>\n",
       "      <td>neutral</td>\n",
       "    </tr>\n",
       "    <tr>\n",
       "      <th>89</th>\n",
       "      <td>neutral</td>\n",
       "    </tr>\n",
       "    <tr>\n",
       "      <th>9</th>\n",
       "      <td>neutral</td>\n",
       "    </tr>\n",
       "    <tr>\n",
       "      <th>90</th>\n",
       "      <td>neutral</td>\n",
       "    </tr>\n",
       "    <tr>\n",
       "      <th>91</th>\n",
       "      <td>neutral</td>\n",
       "    </tr>\n",
       "    <tr>\n",
       "      <th>92</th>\n",
       "      <td>neutral</td>\n",
       "    </tr>\n",
       "    <tr>\n",
       "      <th>93</th>\n",
       "      <td>neutral</td>\n",
       "    </tr>\n",
       "    <tr>\n",
       "      <th>94</th>\n",
       "      <td>neutral</td>\n",
       "    </tr>\n",
       "    <tr>\n",
       "      <th>95</th>\n",
       "      <td>neutral</td>\n",
       "    </tr>\n",
       "    <tr>\n",
       "      <th>96</th>\n",
       "      <td>neutral</td>\n",
       "    </tr>\n",
       "    <tr>\n",
       "      <th>97</th>\n",
       "      <td>neutral</td>\n",
       "    </tr>\n",
       "    <tr>\n",
       "      <th>98</th>\n",
       "      <td>neutral</td>\n",
       "    </tr>\n",
       "    <tr>\n",
       "      <th>99</th>\n",
       "      <td>neutral</td>\n",
       "    </tr>\n",
       "  </tbody>\n",
       "</table>\n",
       "<p>500 rows × 1 columns</p>\n",
       "</div>"
      ],
      "text/plain": [
       "               id\n",
       "agent_id         \n",
       "0         neutral\n",
       "1         neutral\n",
       "10        neutral\n",
       "100       neutral\n",
       "101       neutral\n",
       "102       neutral\n",
       "103       neutral\n",
       "104       neutral\n",
       "105       neutral\n",
       "106       neutral\n",
       "107       neutral\n",
       "108       neutral\n",
       "109       neutral\n",
       "11        neutral\n",
       "110       neutral\n",
       "111       neutral\n",
       "112       neutral\n",
       "113       neutral\n",
       "114       neutral\n",
       "115       neutral\n",
       "116       neutral\n",
       "117       neutral\n",
       "118       neutral\n",
       "119       neutral\n",
       "12        neutral\n",
       "120       neutral\n",
       "121       neutral\n",
       "122       neutral\n",
       "123       neutral\n",
       "124       neutral\n",
       "...           ...\n",
       "72        neutral\n",
       "73        neutral\n",
       "74        neutral\n",
       "75        neutral\n",
       "76        neutral\n",
       "77        neutral\n",
       "78        neutral\n",
       "79        neutral\n",
       "8         neutral\n",
       "80        neutral\n",
       "81        neutral\n",
       "82        neutral\n",
       "83        neutral\n",
       "84        neutral\n",
       "85        neutral\n",
       "86        neutral\n",
       "87        neutral\n",
       "88        neutral\n",
       "89        neutral\n",
       "9         neutral\n",
       "90        neutral\n",
       "91        neutral\n",
       "92        neutral\n",
       "93        neutral\n",
       "94        neutral\n",
       "95        neutral\n",
       "96        neutral\n",
       "97        neutral\n",
       "98        neutral\n",
       "99        neutral\n",
       "\n",
       "[500 rows x 1 columns]"
      ]
     },
     "execution_count": 16,
     "metadata": {},
     "output_type": "execute_result"
    }
   ],
   "source": [
    "agents.loc[0]"
   ]
  },
  {
   "cell_type": "markdown",
   "metadata": {},
   "source": [
    "Or, we can perform more complex tasks such as showing the agents that have changed their state between two simulation steps:"
   ]
  },
  {
   "cell_type": "code",
   "execution_count": 17,
   "metadata": {
    "ExecuteTime": {
     "end_time": "2017-10-19T15:57:48.168805Z",
     "start_time": "2017-10-19T17:57:48.113961+02:00"
    }
   },
   "outputs": [
    {
     "data": {
      "text/html": [
       "<div>\n",
       "<style>\n",
       "    .dataframe thead tr:only-child th {\n",
       "        text-align: right;\n",
       "    }\n",
       "\n",
       "    .dataframe thead th {\n",
       "        text-align: left;\n",
       "    }\n",
       "\n",
       "    .dataframe tbody tr th {\n",
       "        vertical-align: top;\n",
       "    }\n",
       "</style>\n",
       "<table border=\"1\" class=\"dataframe\">\n",
       "  <thead>\n",
       "    <tr style=\"text-align: right;\">\n",
       "      <th></th>\n",
       "      <th>id</th>\n",
       "    </tr>\n",
       "    <tr>\n",
       "      <th>agent_id</th>\n",
       "      <th></th>\n",
       "    </tr>\n",
       "  </thead>\n",
       "  <tbody>\n",
       "    <tr>\n",
       "      <th>140</th>\n",
       "      <td>neutral</td>\n",
       "    </tr>\n",
       "    <tr>\n",
       "      <th>164</th>\n",
       "      <td>neutral</td>\n",
       "    </tr>\n",
       "    <tr>\n",
       "      <th>170</th>\n",
       "      <td>neutral</td>\n",
       "    </tr>\n",
       "    <tr>\n",
       "      <th>310</th>\n",
       "      <td>neutral</td>\n",
       "    </tr>\n",
       "    <tr>\n",
       "      <th>455</th>\n",
       "      <td>neutral</td>\n",
       "    </tr>\n",
       "  </tbody>\n",
       "</table>\n",
       "</div>"
      ],
      "text/plain": [
       "               id\n",
       "agent_id         \n",
       "140       neutral\n",
       "164       neutral\n",
       "170       neutral\n",
       "310       neutral\n",
       "455       neutral"
      ]
     },
     "execution_count": 17,
     "metadata": {},
     "output_type": "execute_result"
    }
   ],
   "source": [
    "changed = agents.loc[1]['id'] != agents.loc[0]['id']\n",
    "agents.loc[0][changed]"
   ]
  },
  {
   "cell_type": "markdown",
   "metadata": {},
   "source": [
    "To focus on specific agents, we can swap the levels of the index:"
   ]
  },
  {
   "cell_type": "code",
   "execution_count": 18,
   "metadata": {
    "ExecuteTime": {
     "end_time": "2017-10-19T15:57:49.046261Z",
     "start_time": "2017-10-19T17:57:49.019721+02:00"
    },
    "collapsed": true
   },
   "outputs": [],
   "source": [
    "agents1 = agents.swaplevel()"
   ]
  },
  {
   "cell_type": "code",
   "execution_count": 19,
   "metadata": {
    "ExecuteTime": {
     "end_time": "2017-10-19T15:57:49.459500Z",
     "start_time": "2017-10-19T17:57:49.420016+02:00"
    },
    "scrolled": true
   },
   "outputs": [
    {
     "data": {
      "text/html": [
       "<div>\n",
       "<style>\n",
       "    .dataframe thead tr:only-child th {\n",
       "        text-align: right;\n",
       "    }\n",
       "\n",
       "    .dataframe thead th {\n",
       "        text-align: left;\n",
       "    }\n",
       "\n",
       "    .dataframe tbody tr th {\n",
       "        vertical-align: top;\n",
       "    }\n",
       "</style>\n",
       "<table border=\"1\" class=\"dataframe\">\n",
       "  <thead>\n",
       "    <tr style=\"text-align: right;\">\n",
       "      <th></th>\n",
       "      <th>id</th>\n",
       "    </tr>\n",
       "    <tr>\n",
       "      <th>t_step</th>\n",
       "      <th></th>\n",
       "    </tr>\n",
       "  </thead>\n",
       "  <tbody>\n",
       "    <tr>\n",
       "      <th>0</th>\n",
       "      <td>neutral</td>\n",
       "    </tr>\n",
       "    <tr>\n",
       "      <th>1</th>\n",
       "      <td>neutral</td>\n",
       "    </tr>\n",
       "    <tr>\n",
       "      <th>2</th>\n",
       "      <td>neutral</td>\n",
       "    </tr>\n",
       "    <tr>\n",
       "      <th>3</th>\n",
       "      <td>neutral</td>\n",
       "    </tr>\n",
       "    <tr>\n",
       "      <th>4</th>\n",
       "      <td>neutral</td>\n",
       "    </tr>\n",
       "    <tr>\n",
       "      <th>5</th>\n",
       "      <td>neutral</td>\n",
       "    </tr>\n",
       "    <tr>\n",
       "      <th>6</th>\n",
       "      <td>neutral</td>\n",
       "    </tr>\n",
       "    <tr>\n",
       "      <th>7</th>\n",
       "      <td>neutral</td>\n",
       "    </tr>\n",
       "    <tr>\n",
       "      <th>8</th>\n",
       "      <td>neutral</td>\n",
       "    </tr>\n",
       "    <tr>\n",
       "      <th>9</th>\n",
       "      <td>neutral</td>\n",
       "    </tr>\n",
       "    <tr>\n",
       "      <th>10</th>\n",
       "      <td>neutral</td>\n",
       "    </tr>\n",
       "    <tr>\n",
       "      <th>11</th>\n",
       "      <td>infected</td>\n",
       "    </tr>\n",
       "    <tr>\n",
       "      <th>12</th>\n",
       "      <td>infected</td>\n",
       "    </tr>\n",
       "    <tr>\n",
       "      <th>13</th>\n",
       "      <td>infected</td>\n",
       "    </tr>\n",
       "    <tr>\n",
       "      <th>14</th>\n",
       "      <td>infected</td>\n",
       "    </tr>\n",
       "    <tr>\n",
       "      <th>15</th>\n",
       "      <td>infected</td>\n",
       "    </tr>\n",
       "    <tr>\n",
       "      <th>16</th>\n",
       "      <td>infected</td>\n",
       "    </tr>\n",
       "    <tr>\n",
       "      <th>17</th>\n",
       "      <td>infected</td>\n",
       "    </tr>\n",
       "    <tr>\n",
       "      <th>18</th>\n",
       "      <td>infected</td>\n",
       "    </tr>\n",
       "    <tr>\n",
       "      <th>19</th>\n",
       "      <td>infected</td>\n",
       "    </tr>\n",
       "    <tr>\n",
       "      <th>20</th>\n",
       "      <td>infected</td>\n",
       "    </tr>\n",
       "  </tbody>\n",
       "</table>\n",
       "</div>"
      ],
      "text/plain": [
       "              id\n",
       "t_step          \n",
       "0        neutral\n",
       "1        neutral\n",
       "2        neutral\n",
       "3        neutral\n",
       "4        neutral\n",
       "5        neutral\n",
       "6        neutral\n",
       "7        neutral\n",
       "8        neutral\n",
       "9        neutral\n",
       "10       neutral\n",
       "11      infected\n",
       "12      infected\n",
       "13      infected\n",
       "14      infected\n",
       "15      infected\n",
       "16      infected\n",
       "17      infected\n",
       "18      infected\n",
       "19      infected\n",
       "20      infected"
      ]
     },
     "execution_count": 19,
     "metadata": {},
     "output_type": "execute_result"
    }
   ],
   "source": [
    "agents1.loc['0'].dropna(axis=1)"
   ]
  },
  {
   "cell_type": "markdown",
   "metadata": {
    "ExecuteTime": {
     "end_time": "2017-10-19T10:35:40.140920Z",
     "start_time": "2017-10-19T12:35:40.106265+02:00"
    }
   },
   "source": [
    "### Plotting data"
   ]
  },
  {
   "cell_type": "markdown",
   "metadata": {},
   "source": [
    "If you don't want to work with pandas, you can also use some pre-defined functions from soil to conveniently plot the results:"
   ]
  },
  {
   "cell_type": "code",
   "execution_count": 20,
   "metadata": {
    "ExecuteTime": {
     "end_time": "2017-10-19T15:57:52.271094Z",
     "start_time": "2017-10-19T17:57:51.102434+02:00"
    }
   },
   "outputs": [
    {
     "data": {
      "image/png": "[encoded data removed]",
      "text/plain": [
       "<matplotlib.figure.Figure at 0x7fd79a1c60f0>"
      ]
     },
     "metadata": {},
     "output_type": "display_data"
    },
    {
     "data": {
      "image/png": "[encoded data removed]",
      "text/plain": [
       "<matplotlib.figure.Figure at 0x7fd79a1c62b0>"
      ]
     },
     "metadata": {},
     "output_type": "display_data"
    }
   ],
   "source": [
    "plot_all('soil_output/Spread_barabasi_albert_graph_prob_0.0/', get_count, 'id');"
   ]
  },
  {
   "cell_type": "code",
   "execution_count": 21,
   "metadata": {
    "ExecuteTime": {
     "end_time": "2017-10-19T15:57:57.982007Z",
     "start_time": "2017-10-19T17:57:52.273160+02:00"
    },
    "scrolled": false
   },
   "outputs": [
    {
     "data": {
      "image/png": "[encoded data removed]",
      "text/plain": [
       "<matplotlib.figure.Figure at 0x7fd79a0b4940>"
      ]
     },
     "metadata": {},
     "output_type": "display_data"
    },
    {
     "data": {
      "image/png": "[encoded data removed]",
      "text/plain": [
       "<matplotlib.figure.Figure at 0x7fd79a0b4518>"
      ]
     },
     "metadata": {},
     "output_type": "display_data"
    },
    {
     "data": {
      "image/png": "[encoded data removed]",
      "text/plain": [
       "<matplotlib.figure.Figure at 0x7fd799958f28>"
      ]
     },
     "metadata": {},
     "output_type": "display_data"
    },
    {
     "data": {
      "image/png": "[encoded data removed]",
      "text/plain": [
       "<matplotlib.figure.Figure at 0x7fd799d1a518>"
      ]
     },
     "metadata": {},
     "output_type": "display_data"
    },
    {
     "data": {
      "image/png": "[encoded data removed]",
      "text/plain": [
       "<matplotlib.figure.Figure at 0x7fd799764be0>"
      ]
     },
     "metadata": {},
     "output_type": "display_data"
    },
    {
     "data": {
      "image/png": "[encoded data removed]",
      "text/plain": [
       "<matplotlib.figure.Figure at 0x7fd79941eba8>"
      ]
     },
     "metadata": {},
     "output_type": "display_data"
    },
    {
     "data": {
      "image/png": "[encoded data removed]",
      "text/plain": [
       "<matplotlib.figure.Figure at 0x7fd798e3eeb8>"
      ]
     },
     "metadata": {},
     "output_type": "display_data"
    },
    {
     "data": {
      "image/png": "[encoded data removed]",
      "text/plain": [
       "<matplotlib.figure.Figure at 0x7fd798ea15c0>"
      ]
     },
     "metadata": {},
     "output_type": "display_data"
    },
    {
     "data": {
      "image/png": "[encoded data removed]",
      "text/plain": [
       "<matplotlib.figure.Figure at 0x7fd798d70898>"
      ]
     },
     "metadata": {},
     "output_type": "display_data"
    },
    {
     "data": {
      "image/png": "[encoded data removed]",
      "text/plain": [
       "<matplotlib.figure.Figure at 0x7fd798d81e48>"
      ]
     },
     "metadata": {},
     "output_type": "display_data"
    }
   ],
   "source": [
    "plot_all('soil_output/Spread_barabasi*', get_count, 'id');"
   ]
  },
  {
   "cell_type": "code",
   "execution_count": 22,
   "metadata": {
    "ExecuteTime": {
     "end_time": "2017-10-19T15:58:26.903783Z",
     "start_time": "2017-10-19T17:57:57.983957+02:00"
    },
    "scrolled": true
   },
   "outputs": [
    {
     "data": {
      "image/png": "[encoded data removed]",
      "text/plain": [
       "<matplotlib.figure.Figure at 0x7fd799674080>"
      ]
     },
     "metadata": {},
     "output_type": "display_data"
    },
    {
     "data": {
      "image/png": "[encoded data removed]",
      "text/plain": [
       "<matplotlib.figure.Figure at 0x7fd7996d2eb8>"
      ]
     },
     "metadata": {},
     "output_type": "display_data"
    },
    {
     "data": {
      "image/png": "[encoded data removed]",
      "text/plain": [
       "<matplotlib.figure.Figure at 0x7fd799841390>"
      ]
     },
     "metadata": {},
     "output_type": "display_data"
    },
    {
     "data": {
      "image/png": "[encoded data removed]",
      "text/plain": [
       "<matplotlib.figure.Figure at 0x7fd7998504a8>"
      ]
     },
     "metadata": {},
     "output_type": "display_data"
    },
    {
     "data": {
      "image/png": "[encoded data removed]",
      "text/plain": [
       "<matplotlib.figure.Figure at 0x7fd7997c82b0>"
      ]
     },
     "metadata": {},
     "output_type": "display_data"
    },
    {
     "data": {
      "image/png": "[encoded data removed]",
      "text/plain": [
       "<matplotlib.figure.Figure at 0x7fd7997c83c8>"
      ]
     },
     "metadata": {},
     "output_type": "display_data"
    },
    {
     "data": {
      "image/png": "[encoded data removed]",
      "text/plain": [
       "<matplotlib.figure.Figure at 0x7fd799a9cf98>"
      ]
     },
     "metadata": {},
     "output_type": "display_data"
    },
    {
     "data": {
      "image/png": "[encoded data removed]",
      "text/plain": [
       "<matplotlib.figure.Figure at 0x7fd799a9c588>"
      ]
     },
     "metadata": {},
     "output_type": "display_data"
    },
    {
     "data": {
      "image/png": "[encoded data removed]",
      "text/plain": [
       "<matplotlib.figure.Figure at 0x7fd799c4a7b8>"
      ]
     },
     "metadata": {},
     "output_type": "display_data"
    },
    {
     "data": {
      "image/png": "[encoded data removed]",
      "text/plain": [
       "<matplotlib.figure.Figure at 0x7fd799d51438>"
      ]
     },
     "metadata": {},
     "output_type": "display_data"
    }
   ],
   "source": [
    "plot_all('soil_output/Spread_erdos*', get_value, 'prob_tv_spread');"
   ]
  },
  {
   "cell_type": "markdown",
   "metadata": {},
   "source": [
    "### Manually plotting with pandas"
   ]
  },
  {
   "cell_type": "markdown",
   "metadata": {
    "ExecuteTime": {
     "end_time": "2017-10-19T11:00:37.003972Z",
     "start_time": "2017-10-19T13:00:36.983128+02:00"
    }
   },
   "source": [
    "Although the simplest way to visualize the results of a simulation is to use the built-in methods in the analysis module, sometimes the setup is more complicated and we need to explore the data a little further.\n",
    "\n",
    "For that, we can use native pandas over the results.\n",
    "\n",
    "Soil provides some convenience methods to simplify common operations:\n",
    "\n",
    "* `analysis.split_df` to separate a history dataframe into environment and agent parameters.\n",
    "* `analysis.get_count` to get a dataframe with the value counts for different attributes during the simulation.\n",
    "* `analysis.get_value` to get the evolution of the value of an attribute during the simulation.\n",
    "\n",
    "And, as we saw earlier, `analysis.process` can turn a dataframe in canonical form into a dataframe with a column per attribute.\n"
   ]
  },
  {
   "cell_type": "code",
   "execution_count": 23,
   "metadata": {
    "ExecuteTime": {
     "end_time": "2017-10-19T15:59:15.791793Z",
     "start_time": "2017-10-19T17:59:15.604960+02:00"
    },
    "collapsed": true
   },
   "outputs": [],
   "source": [
    "p = read_sql('soil_output/Spread_barabasi_albert_graph_prob_0.0/Spread_barabasi_albert_graph_prob_0.0_trial_0.db.sqlite')\n",
    "env, agents = split_df(p);"
   ]
  },
  {
   "cell_type": "markdown",
   "metadata": {},
   "source": [
    "Let's look at the evolution of agent parameters in the simulation"
   ]
  },
  {
   "cell_type": "code",
   "execution_count": 24,
   "metadata": {
    "ExecuteTime": {
     "end_time": "2017-10-19T15:59:17.153282Z",
     "start_time": "2017-10-19T17:59:16.830872+02:00"
    }
   },
   "outputs": [
    {
     "data": {
      "image/png": "[encoded data removed]",
      "text/plain": [
       "<matplotlib.figure.Figure at 0x7fd799c4f908>"
      ]
     },
     "metadata": {},
     "output_type": "display_data"
    }
   ],
   "source": [
    "res = agents.groupby(by=['t_step', 'key', 'value']).size().unstack(level=[1,2]).fillna(0)\n",
    "res.plot();"
   ]
  },
  {
   "cell_type": "markdown",
   "metadata": {
    "ExecuteTime": {
     "end_time": "2017-10-19T11:10:36.086913Z",
     "start_time": "2017-10-19T13:10:36.058547+02:00"
    }
   },
   "source": [
    "As we can see, `event_time` is cluttering our results, "
   ]
  },
  {
   "cell_type": "code",
   "execution_count": 25,
   "metadata": {
    "ExecuteTime": {
     "end_time": "2017-10-19T15:59:18.418348Z",
     "start_time": "2017-10-19T17:59:18.143443+02:00"
    }
   },
   "outputs": [
    {
     "data": {
      "text/plain": [
       "<matplotlib.axes._subplots.AxesSubplot at 0x7fd795b17b38>"
      ]
     },
     "execution_count": 25,
     "metadata": {},
     "output_type": "execute_result"
    },
    {
     "data": {
      "image/png": "[encoded data removed]",
      "text/plain": [
       "<matplotlib.figure.Figure at 0x7fd796e1ff60>"
      ]
     },
     "metadata": {},
     "output_type": "display_data"
    }
   ],
   "source": [
    "del res['event_time']\n",
    "res.plot()"
   ]
  },
  {
   "cell_type": "code",
   "execution_count": 28,
   "metadata": {
    "ExecuteTime": {
     "end_time": "2017-10-19T15:59:42.750011Z",
     "start_time": "2017-10-19T17:59:42.649353+02:00"
    }
   },
   "outputs": [
    {
     "data": {
      "text/html": [
       "<div>\n",
       "<style>\n",
       "    .dataframe thead tr:only-child th {\n",
       "        text-align: right;\n",
       "    }\n",
       "\n",
       "    .dataframe thead th {\n",
       "        text-align: left;\n",
       "    }\n",
       "\n",
       "    .dataframe tbody tr th {\n",
       "        vertical-align: top;\n",
       "    }\n",
       "</style>\n",
       "<table border=\"1\" class=\"dataframe\">\n",
       "  <thead>\n",
       "    <tr style=\"text-align: right;\">\n",
       "      <th></th>\n",
       "      <th></th>\n",
       "      <th>event_time</th>\n",
       "      <th>has_tv</th>\n",
       "      <th>id</th>\n",
       "    </tr>\n",
       "    <tr>\n",
       "      <th>t_step</th>\n",
       "      <th>agent_id</th>\n",
       "      <th></th>\n",
       "      <th></th>\n",
       "      <th></th>\n",
       "    </tr>\n",
       "  </thead>\n",
       "  <tbody>\n",
       "    <tr>\n",
       "      <th rowspan=\"30\" valign=\"top\">0</th>\n",
       "      <th>0</th>\n",
       "      <td>0</td>\n",
       "      <td>True</td>\n",
       "      <td>neutral</td>\n",
       "    </tr>\n",
       "    <tr>\n",
       "      <th>1</th>\n",
       "      <td>0</td>\n",
       "      <td>False</td>\n",
       "      <td>neutral</td>\n",
       "    </tr>\n",
       "    <tr>\n",
       "      <th>10</th>\n",
       "      <td>0</td>\n",
       "      <td>True</td>\n",
       "      <td>neutral</td>\n",
       "    </tr>\n",
       "    <tr>\n",
       "      <th>100</th>\n",
       "      <td>0</td>\n",
       "      <td>True</td>\n",
       "      <td>neutral</td>\n",
       "    </tr>\n",
       "    <tr>\n",
       "      <th>101</th>\n",
       "      <td>0</td>\n",
       "      <td>True</td>\n",
       "      <td>neutral</td>\n",
       "    </tr>\n",
       "    <tr>\n",
       "      <th>102</th>\n",
       "      <td>0</td>\n",
       "      <td>False</td>\n",
       "      <td>neutral</td>\n",
       "    </tr>\n",
       "    <tr>\n",
       "      <th>103</th>\n",
       "      <td>0</td>\n",
       "      <td>True</td>\n",
       "      <td>neutral</td>\n",
       "    </tr>\n",
       "    <tr>\n",
       "      <th>104</th>\n",
       "      <td>0</td>\n",
       "      <td>True</td>\n",
       "      <td>neutral</td>\n",
       "    </tr>\n",
       "    <tr>\n",
       "      <th>105</th>\n",
       "      <td>0</td>\n",
       "      <td>False</td>\n",
       "      <td>neutral</td>\n",
       "    </tr>\n",
       "    <tr>\n",
       "      <th>106</th>\n",
       "      <td>0</td>\n",
       "      <td>False</td>\n",
       "      <td>neutral</td>\n",
       "    </tr>\n",
       "    <tr>\n",
       "      <th>107</th>\n",
       "      <td>0</td>\n",
       "      <td>True</td>\n",
       "      <td>neutral</td>\n",
       "    </tr>\n",
       "    <tr>\n",
       "      <th>108</th>\n",
       "      <td>0</td>\n",
       "      <td>True</td>\n",
       "      <td>neutral</td>\n",
       "    </tr>\n",
       "    <tr>\n",
       "      <th>109</th>\n",
       "      <td>0</td>\n",
       "      <td>False</td>\n",
       "      <td>neutral</td>\n",
       "    </tr>\n",
       "    <tr>\n",
       "      <th>11</th>\n",
       "      <td>0</td>\n",
       "      <td>True</td>\n",
       "      <td>neutral</td>\n",
       "    </tr>\n",
       "    <tr>\n",
       "      <th>110</th>\n",
       "      <td>0</td>\n",
       "      <td>False</td>\n",
       "      <td>neutral</td>\n",
       "    </tr>\n",
       "    <tr>\n",
       "      <th>111</th>\n",
       "      <td>0</td>\n",
       "      <td>False</td>\n",
       "      <td>neutral</td>\n",
       "    </tr>\n",
       "    <tr>\n",
       "      <th>112</th>\n",
       "      <td>0</td>\n",
       "      <td>True</td>\n",
       "      <td>neutral</td>\n",
       "    </tr>\n",
       "    <tr>\n",
       "      <th>113</th>\n",
       "      <td>0</td>\n",
       "      <td>True</td>\n",
       "      <td>neutral</td>\n",
       "    </tr>\n",
       "    <tr>\n",
       "      <th>114</th>\n",
       "      <td>0</td>\n",
       "      <td>True</td>\n",
       "      <td>neutral</td>\n",
       "    </tr>\n",
       "    <tr>\n",
       "      <th>115</th>\n",
       "      <td>0</td>\n",
       "      <td>True</td>\n",
       "      <td>neutral</td>\n",
       "    </tr>\n",
       "    <tr>\n",
       "      <th>116</th>\n",
       "      <td>0</td>\n",
       "      <td>False</td>\n",
       "      <td>neutral</td>\n",
       "    </tr>\n",
       "    <tr>\n",
       "      <th>117</th>\n",
       "      <td>0</td>\n",
       "      <td>True</td>\n",
       "      <td>neutral</td>\n",
       "    </tr>\n",
       "    <tr>\n",
       "      <th>118</th>\n",
       "      <td>0</td>\n",
       "      <td>True</td>\n",
       "      <td>neutral</td>\n",
       "    </tr>\n",
       "    <tr>\n",
       "      <th>119</th>\n",
       "      <td>0</td>\n",
       "      <td>False</td>\n",
       "      <td>neutral</td>\n",
       "    </tr>\n",
       "    <tr>\n",
       "      <th>12</th>\n",
       "      <td>0</td>\n",
       "      <td>False</td>\n",
       "      <td>neutral</td>\n",
       "    </tr>\n",
       "    <tr>\n",
       "      <th>120</th>\n",
       "      <td>0</td>\n",
       "      <td>False</td>\n",
       "      <td>neutral</td>\n",
       "    </tr>\n",
       "    <tr>\n",
       "      <th>121</th>\n",
       "      <td>0</td>\n",
       "      <td>True</td>\n",
       "      <td>neutral</td>\n",
       "    </tr>\n",
       "    <tr>\n",
       "      <th>122</th>\n",
       "      <td>0</td>\n",
       "      <td>True</td>\n",
       "      <td>neutral</td>\n",
       "    </tr>\n",
       "    <tr>\n",
       "      <th>123</th>\n",
       "      <td>0</td>\n",
       "      <td>True</td>\n",
       "      <td>neutral</td>\n",
       "    </tr>\n",
       "    <tr>\n",
       "      <th>124</th>\n",
       "      <td>0</td>\n",
       "      <td>False</td>\n",
       "      <td>neutral</td>\n",
       "    </tr>\n",
       "    <tr>\n",
       "      <th>...</th>\n",
       "      <th>...</th>\n",
       "      <td>...</td>\n",
       "      <td>...</td>\n",
       "      <td>...</td>\n",
       "    </tr>\n",
       "    <tr>\n",
       "      <th rowspan=\"30\" valign=\"top\">20</th>\n",
       "      <th>73</th>\n",
       "      <td>0</td>\n",
       "      <td>True</td>\n",
       "      <td>infected</td>\n",
       "    </tr>\n",
       "    <tr>\n",
       "      <th>74</th>\n",
       "      <td>0</td>\n",
       "      <td>True</td>\n",
       "      <td>infected</td>\n",
       "    </tr>\n",
       "    <tr>\n",
       "      <th>75</th>\n",
       "      <td>0</td>\n",
       "      <td>True</td>\n",
       "      <td>infected</td>\n",
       "    </tr>\n",
       "    <tr>\n",
       "      <th>76</th>\n",
       "      <td>0</td>\n",
       "      <td>True</td>\n",
       "      <td>infected</td>\n",
       "    </tr>\n",
       "    <tr>\n",
       "      <th>77</th>\n",
       "      <td>0</td>\n",
       "      <td>True</td>\n",
       "      <td>infected</td>\n",
       "    </tr>\n",
       "    <tr>\n",
       "      <th>78</th>\n",
       "      <td>0</td>\n",
       "      <td>True</td>\n",
       "      <td>infected</td>\n",
       "    </tr>\n",
       "    <tr>\n",
       "      <th>79</th>\n",
       "      <td>0</td>\n",
       "      <td>False</td>\n",
       "      <td>infected</td>\n",
       "    </tr>\n",
       "    <tr>\n",
       "      <th>8</th>\n",
       "      <td>0</td>\n",
       "      <td>False</td>\n",
       "      <td>infected</td>\n",
       "    </tr>\n",
       "    <tr>\n",
       "      <th>80</th>\n",
       "      <td>0</td>\n",
       "      <td>True</td>\n",
       "      <td>infected</td>\n",
       "    </tr>\n",
       "    <tr>\n",
       "      <th>81</th>\n",
       "      <td>0</td>\n",
       "      <td>False</td>\n",
       "      <td>infected</td>\n",
       "    </tr>\n",
       "    <tr>\n",
       "      <th>82</th>\n",
       "      <td>0</td>\n",
       "      <td>False</td>\n",
       "      <td>infected</td>\n",
       "    </tr>\n",
       "    <tr>\n",
       "      <th>83</th>\n",
       "      <td>0</td>\n",
       "      <td>True</td>\n",
       "      <td>infected</td>\n",
       "    </tr>\n",
       "    <tr>\n",
       "      <th>84</th>\n",
       "      <td>0</td>\n",
       "      <td>False</td>\n",
       "      <td>infected</td>\n",
       "    </tr>\n",
       "    <tr>\n",
       "      <th>85</th>\n",
       "      <td>0</td>\n",
       "      <td>True</td>\n",
       "      <td>infected</td>\n",
       "    </tr>\n",
       "    <tr>\n",
       "      <th>86</th>\n",
       "      <td>0</td>\n",
       "      <td>True</td>\n",
       "      <td>infected</td>\n",
       "    </tr>\n",
       "    <tr>\n",
       "      <th>87</th>\n",
       "      <td>0</td>\n",
       "      <td>True</td>\n",
       "      <td>infected</td>\n",
       "    </tr>\n",
       "    <tr>\n",
       "      <th>88</th>\n",
       "      <td>0</td>\n",
       "      <td>False</td>\n",
       "      <td>infected</td>\n",
       "    </tr>\n",
       "    <tr>\n",
       "      <th>89</th>\n",
       "      <td>0</td>\n",
       "      <td>False</td>\n",
       "      <td>infected</td>\n",
       "    </tr>\n",
       "    <tr>\n",
       "      <th>9</th>\n",
       "      <td>0</td>\n",
       "      <td>True</td>\n",
       "      <td>infected</td>\n",
       "    </tr>\n",
       "    <tr>\n",
       "      <th>90</th>\n",
       "      <td>0</td>\n",
       "      <td>True</td>\n",
       "      <td>infected</td>\n",
       "    </tr>\n",
       "    <tr>\n",
       "      <th>91</th>\n",
       "      <td>0</td>\n",
       "      <td>True</td>\n",
       "      <td>infected</td>\n",
       "    </tr>\n",
       "    <tr>\n",
       "      <th>92</th>\n",
       "      <td>0</td>\n",
       "      <td>True</td>\n",
       "      <td>infected</td>\n",
       "    </tr>\n",
       "    <tr>\n",
       "      <th>93</th>\n",
       "      <td>0</td>\n",
       "      <td>False</td>\n",
       "      <td>infected</td>\n",
       "    </tr>\n",
       "    <tr>\n",
       "      <th>94</th>\n",
       "      <td>0</td>\n",
       "      <td>True</td>\n",
       "      <td>infected</td>\n",
       "    </tr>\n",
       "    <tr>\n",
       "      <th>95</th>\n",
       "      <td>0</td>\n",
       "      <td>True</td>\n",
       "      <td>infected</td>\n",
       "    </tr>\n",
       "    <tr>\n",
       "      <th>96</th>\n",
       "      <td>0</td>\n",
       "      <td>True</td>\n",
       "      <td>infected</td>\n",
       "    </tr>\n",
       "    <tr>\n",
       "      <th>97</th>\n",
       "      <td>0</td>\n",
       "      <td>True</td>\n",
       "      <td>infected</td>\n",
       "    </tr>\n",
       "    <tr>\n",
       "      <th>98</th>\n",
       "      <td>0</td>\n",
       "      <td>False</td>\n",
       "      <td>infected</td>\n",
       "    </tr>\n",
       "    <tr>\n",
       "      <th>99</th>\n",
       "      <td>0</td>\n",
       "      <td>True</td>\n",
       "      <td>infected</td>\n",
       "    </tr>\n",
       "    <tr>\n",
       "      <th>NewsEnvironmentAgent</th>\n",
       "      <td>10</td>\n",
       "      <td>False</td>\n",
       "      <td>0</td>\n",
       "    </tr>\n",
       "  </tbody>\n",
       "</table>\n",
       "<p>10521 rows × 3 columns</p>\n",
       "</div>"
      ],
      "text/plain": [
       "                             event_time  has_tv        id\n",
       "t_step agent_id                                          \n",
       "0      0                              0    True   neutral\n",
       "       1                              0   False   neutral\n",
       "       10                             0    True   neutral\n",
       "       100                            0    True   neutral\n",
       "       101                            0    True   neutral\n",
       "       102                            0   False   neutral\n",
       "       103                            0    True   neutral\n",
       "       104                            0    True   neutral\n",
       "       105                            0   False   neutral\n",
       "       106                            0   False   neutral\n",
       "       107                            0    True   neutral\n",
       "       108                            0    True   neutral\n",
       "       109                            0   False   neutral\n",
       "       11                             0    True   neutral\n",
       "       110                            0   False   neutral\n",
       "       111                            0   False   neutral\n",
       "       112                            0    True   neutral\n",
       "       113                            0    True   neutral\n",
       "       114                            0    True   neutral\n",
       "       115                            0    True   neutral\n",
       "       116                            0   False   neutral\n",
       "       117                            0    True   neutral\n",
       "       118                            0    True   neutral\n",
       "       119                            0   False   neutral\n",
       "       12                             0   False   neutral\n",
       "       120                            0   False   neutral\n",
       "       121                            0    True   neutral\n",
       "       122                            0    True   neutral\n",
       "       123                            0    True   neutral\n",
       "       124                            0   False   neutral\n",
       "...                                 ...     ...       ...\n",
       "20     73                             0    True  infected\n",
       "       74                             0    True  infected\n",
       "       75                             0    True  infected\n",
       "       76                             0    True  infected\n",
       "       77                             0    True  infected\n",
       "       78                             0    True  infected\n",
       "       79                             0   False  infected\n",
       "       8                              0   False  infected\n",
       "       80                             0    True  infected\n",
       "       81                             0   False  infected\n",
       "       82                             0   False  infected\n",
       "       83                             0    True  infected\n",
       "       84                             0   False  infected\n",
       "       85                             0    True  infected\n",
       "       86                             0    True  infected\n",
       "       87                             0    True  infected\n",
       "       88                             0   False  infected\n",
       "       89                             0   False  infected\n",
       "       9                              0    True  infected\n",
       "       90                             0    True  infected\n",
       "       91                             0    True  infected\n",
       "       92                             0    True  infected\n",
       "       93                             0   False  infected\n",
       "       94                             0    True  infected\n",
       "       95                             0    True  infected\n",
       "       96                             0    True  infected\n",
       "       97                             0    True  infected\n",
       "       98                             0   False  infected\n",
       "       99                             0    True  infected\n",
       "       NewsEnvironmentAgent          10   False         0\n",
       "\n",
       "[10521 rows x 3 columns]"
      ]
     },
     "execution_count": 28,
     "metadata": {},
     "output_type": "execute_result"
    }
   ],
   "source": [
    "processed = process_one(agents);\n",
    "processed"
   ]
  },
  {
   "cell_type": "markdown",
   "metadata": {},
   "source": [
    "Which is equivalent to:"
   ]
  },
  {
   "cell_type": "code",
   "execution_count": 30,
   "metadata": {
    "ExecuteTime": {
     "end_time": "2017-10-19T15:59:51.165806Z",
     "start_time": "2017-10-19T17:59:50.886780+02:00"
    }
   },
   "outputs": [
    {
     "data": {
      "text/plain": [
       "<matplotlib.axes._subplots.AxesSubplot at 0x7fd799c15748>"
      ]
     },
     "execution_count": 30,
     "metadata": {},
     "output_type": "execute_result"
    },
    {
     "data": {
      "image/png": "[encoded data removed]",
      "text/plain": [
       "<matplotlib.figure.Figure at 0x7fd799d3fbe0>"
      ]
     },
     "metadata": {},
     "output_type": "display_data"
    }
   ],
   "source": [
    "get_count(agents, 'id', 'has_tv').plot()"
   ]
  },
  {
   "cell_type": "code",
   "execution_count": 31,
   "metadata": {
    "ExecuteTime": {
     "end_time": "2017-10-19T15:59:55.203641Z",
     "start_time": "2017-10-19T17:59:54.950046+02:00"
    }
   },
   "outputs": [
    {
     "data": {
      "text/plain": [
       "<matplotlib.axes._subplots.AxesSubplot at 0x7fd79a228c88>"
      ]
     },
     "execution_count": 31,
     "metadata": {},
     "output_type": "execute_result"
    },
    {
     "data": {
      "image/png": "[encoded data removed]",
      "text/plain": [
       "<matplotlib.figure.Figure at 0x7fd79a1fe208>"
      ]
     },
     "metadata": {},
     "output_type": "display_data"
    }
   ],
   "source": [
    "get_value(agents, 'event_time').plot()"
   ]
  },
  {
   "cell_type": "markdown",
   "metadata": {},
   "source": [
    "## Dealing with bigger data"
   ]
  },
  {
   "cell_type": "code",
   "execution_count": 32,
   "metadata": {
    "ExecuteTime": {
     "end_time": "2017-10-19T16:00:18.148006Z",
     "start_time": "2017-10-19T18:00:18.117654+02:00"
    },
    "collapsed": true
   },
   "outputs": [],
   "source": [
    "from soil import analysis"
   ]
  },
  {
   "cell_type": "code",
   "execution_count": 33,
   "metadata": {
    "ExecuteTime": {
     "end_time": "2017-10-19T16:00:18.636440Z",
     "start_time": "2017-10-19T18:00:18.504421+02:00"
    }
   },
   "outputs": [
    {
     "name": "stdout",
     "output_type": "stream",
     "text": [
      "267M\t../rabbits/soil_output/rabbits_example/\r\n"
     ]
    }
   ],
   "source": [
    "!du -xsh ../rabbits/soil_output/rabbits_example/"
   ]
  },
  {
   "cell_type": "markdown",
   "metadata": {
    "ExecuteTime": {
     "end_time": "2017-10-19T11:22:22.301765Z",
     "start_time": "2017-10-19T13:22:22.281986+02:00"
    }
   },
   "source": [
    "If we tried to load the entire history, we would probably run out of memory. Hence, it is recommended that you also specify the attributes you are interested in."
   ]
  },
  {
   "cell_type": "code",
   "execution_count": 34,
   "metadata": {
    "ExecuteTime": {
     "end_time": "2017-10-19T16:00:25.080582Z",
     "start_time": "2017-10-19T18:00:19.594165+02:00"
    },
    "scrolled": false
   },
   "outputs": [
    {
     "data": {
      "image/png": "[encoded data removed]",
      "text/plain": [
       "<matplotlib.figure.Figure at 0x7fd799c54ba8>"
      ]
     },
     "metadata": {},
     "output_type": "display_data"
    },
    {
     "data": {
      "image/png": "[encoded data removed]",
      "text/plain": [
       "<matplotlib.figure.Figure at 0x7fd799aa66d8>"
      ]
     },
     "metadata": {},
     "output_type": "display_data"
    }
   ],
   "source": [
    "p = analysis.plot_all('../rabbits/soil_output/rabbits_example/', analysis.get_count, 'id')"
   ]
  },
  {
   "cell_type": "code",
   "execution_count": 39,
   "metadata": {
    "ExecuteTime": {
     "end_time": "2017-10-19T16:00:38.434367Z",
     "start_time": "2017-10-19T18:00:33.645762+02:00"
    },
    "collapsed": true
   },
   "outputs": [],
   "source": [
    "df = analysis.read_sql('../rabbits/soil_output/rabbits_example/rabbits_example_trial_0.db.sqlite', keys=['id', 'rabbits_alive'])"
   ]
  },
  {
   "cell_type": "code",
   "execution_count": 40,
   "metadata": {
    "ExecuteTime": {
     "end_time": "2017-10-19T16:00:39.160418Z",
     "start_time": "2017-10-19T18:00:38.436153+02:00"
    },
    "scrolled": true
   },
   "outputs": [
    {
     "data": {
      "text/plain": [
       "<matplotlib.axes._subplots.AxesSubplot at 0x7fd799b5b2b0>"
      ]
     },
     "execution_count": 40,
     "metadata": {},
     "output_type": "execute_result"
    },
    {
     "data": {
      "image/png": "[encoded data removed]",
      "text/plain": [
       "<matplotlib.figure.Figure at 0x7fd79a2f8940>"
      ]
     },
     "metadata": {},
     "output_type": "display_data"
    }
   ],
   "source": [
    "states = analysis.get_count(df, 'id')\n",
    "states.plot()"
   ]
  },
  {
   "cell_type": "code",
   "execution_count": 41,
   "metadata": {
    "ExecuteTime": {
     "end_time": "2017-10-19T16:00:39.515032Z",
     "start_time": "2017-10-19T18:00:39.162240+02:00"
    }
   },
   "outputs": [
    {
     "data": {
      "text/plain": [
       "<matplotlib.axes._subplots.AxesSubplot at 0x7fd796161cf8>"
      ]
     },
     "execution_count": 41,
     "metadata": {},
     "output_type": "execute_result"
    },
    {
     "data": {
      "image/png": "[encoded data removed]",
      "text/plain": [
       "<matplotlib.figure.Figure at 0x7fd79593ef98>"
      ]
     },
     "metadata": {},
     "output_type": "display_data"
    }
   ],
   "source": [
    "alive = analysis.get_value(df, 'rabbits_alive', 'rabbits_alive', aggfunc='sum').apply(pd.to_numeric)\n",
    "alive.plot()"
   ]
  },
  {
   "cell_type": "code",
   "execution_count": 44,
   "metadata": {
    "ExecuteTime": {
     "end_time": "2017-10-19T16:00:58.815038Z",
     "start_time": "2017-10-19T18:00:58.566807+02:00"
    }
   },
   "outputs": [
    {
     "name": "stderr",
     "output_type": "stream",
     "text": [
      "/home/jfernando/.local/lib/python3.6/site-packages/pandas/core/reshape/merge.py:551: UserWarning: merging between different levels can give an unintended result (1 levels on the left, 2 on the right)\n",
      "  warnings.warn(msg, UserWarning)\n"
     ]
    },
    {
     "data": {
      "image/png": "[encoded data removed]",
      "text/plain": [
       "<matplotlib.figure.Figure at 0x7fd799b45588>"
      ]
     },
     "metadata": {},
     "output_type": "display_data"
    }
   ],
   "source": [
    "h = alive.join(states);\n",
    "h.plot();"
   ]
  },
  {
   "cell_type": "code",
   "execution_count": null,
   "metadata": {
    "ExecuteTime": {
     "end_time": "2017-10-19T16:01:01.195253Z",
     "start_time": "2017-10-19T18:01:01.142907+02:00"
    },
    "collapsed": true,
    "scrolled": true
   },
   "outputs": [],
   "source": [
    "states[[('id','newborn'),('id','fertile'),('id', 'pregnant')]].sum(axis=1).sub(alive['rabbits_alive'], fill_value=0)"
   ]
  }
 ],
 "metadata": {
  "kernelspec": {
   "display_name": "Python 3",
   "language": "python",
   "name": "python3"
  },
  "language_info": {
   "codemirror_mode": {
    "name": "ipython",
    "version": 3
   },
   "file_extension": ".py",
   "mimetype": "text/x-python",
   "name": "python",
   "nbconvert_exporter": "python",
   "pygments_lexer": "ipython3",
   "version": "3.6.2"
  },
  "toc": {
   "colors": {
    "hover_highlight": "#DAA520",
    "navigate_num": "#000000",
    "navigate_text": "#333333",
    "running_highlight": "#FF0000",
    "selected_highlight": "#FFD700",
    "sidebar_border": "#EEEEEE",
    "wrapper_background": "#FFFFFF"
   },
   "moveMenuLeft": true,
   "nav_menu": {
    "height": "31px",
    "width": "252px"
   },
   "navigate_menu": true,
   "number_sections": true,
   "sideBar": true,
   "threshold": 4,
   "toc_cell": false,
   "toc_position": {
    "height": "867px",
    "left": "0px",
    "right": "1670px",
    "top": "106px",
    "width": "250px"
   },
   "toc_section_display": "block",
   "toc_window_display": true,
   "widenNotebook": false
  }
 },
 "nbformat": 4,
 "nbformat_minor": 2
}
